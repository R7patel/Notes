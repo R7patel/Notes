{
 "cells": [
  {
   "cell_type": "markdown",
   "metadata": {},
   "source": [
    "# Importing Libraries"
   ]
  },
  {
   "cell_type": "code",
   "execution_count": null,
   "metadata": {},
   "outputs": [],
   "source": [
    "# conda install openpyxl\n",
    "import os\n",
    "import pandas as pd"
   ]
  },
  {
   "cell_type": "markdown",
   "metadata": {},
   "source": [
    "# Converting Excel to Csv"
   ]
  },
  {
   "cell_type": "code",
   "execution_count": null,
   "metadata": {},
   "outputs": [],
   "source": [
    "def convertExcelToCsv(files=None,save_path=None):\n",
    "    if files is None:\n",
    "        files = [f for f in os.listdir('.') if os.path.isfile(f)]\n",
    "    if save_path is None:\n",
    "        save_path = \"./CSV/\"\n",
    "    for f in files:\n",
    "        if '.xlsx' in f:\n",
    "            print(\"\\nConverting\",f,\"to\",f.replace(\"xlsx\",\"csv\"),\"\")\n",
    "            df = pd.read_excel(f,engine='openpyxl')\n",
    "            df.to_csv(save_path + f.replace(\"xlsx\",\"csv\") ,index=False)\n",
    "    return 0"
   ]
  },
  {
   "cell_type": "markdown",
   "metadata": {},
   "source": [
    "# JSON"
   ]
  },
  {
   "cell_type": "code",
   "execution_count": null,
   "metadata": {},
   "outputs": [],
   "source": []
  }
 ],
 "metadata": {
  "kernelspec": {
   "display_name": "Python 3",
   "language": "python",
   "name": "python3"
  },
  "language_info": {
   "codemirror_mode": {
    "name": "ipython",
    "version": 3
   },
   "file_extension": ".py",
   "mimetype": "text/x-python",
   "name": "python",
   "nbconvert_exporter": "python",
   "pygments_lexer": "ipython3",
   "version": "3.8.11"
  }
 },
 "nbformat": 4,
 "nbformat_minor": 4
}
