{
 "cells": [
  {
   "cell_type": "markdown",
   "id": "e1eec961-e061-49ca-ba3d-1005f64210d1",
   "metadata": {},
   "source": [
    "# Classification"
   ]
  },
  {
   "cell_type": "code",
   "execution_count": null,
   "id": "13417108-ed89-4ea6-aae5-df0b9ee1e0f1",
   "metadata": {},
   "outputs": [],
   "source": []
  },
  {
   "cell_type": "markdown",
   "id": "2c4216f6-6433-4019-a3a3-30490caf258c",
   "metadata": {},
   "source": [
    "# Regression"
   ]
  },
  {
   "cell_type": "markdown",
   "id": "a8dd2ad4-65c9-4413-9642-6d25c675ab81",
   "metadata": {},
   "source": [
    "### r2 (R Squared) (Goodness of fit)\n",
    "### Adjusted r2 (R Squared)"
   ]
  },
  {
   "cell_type": "markdown",
   "id": "bc8431f7-1c0c-4b7b-8481-b0a34b113c8e",
   "metadata": {},
   "source": [
    "Both of the above parameters are covered in statistics notebook"
   ]
  },
  {
   "cell_type": "markdown",
   "id": "2534330b-2b54-4b78-b605-07e22a0be2fd",
   "metadata": {},
   "source": []
  },
  {
   "cell_type": "markdown",
   "id": "75e757da-387b-45a9-9ac9-9f9c926184c5",
   "metadata": {},
   "source": []
  },
  {
   "cell_type": "markdown",
   "id": "de2aa97f-ce7c-4cc9-9a3e-c3ee0da0ee5b",
   "metadata": {},
   "source": []
  },
  {
   "cell_type": "markdown",
   "id": "b20db02a-3ea7-4ac9-b32c-88e3fed50731",
   "metadata": {},
   "source": []
  },
  {
   "cell_type": "markdown",
   "id": "5e7533d8-b96c-481f-b265-550c33a6b5af",
   "metadata": {},
   "source": []
  },
  {
   "cell_type": "code",
   "execution_count": null,
   "id": "a6bd407c-2ba7-436f-8300-536f950d6013",
   "metadata": {},
   "outputs": [],
   "source": []
  }
 ],
 "metadata": {
  "kernelspec": {
   "display_name": "Python 3 (ipykernel)",
   "language": "python",
   "name": "python3"
  },
  "language_info": {
   "codemirror_mode": {
    "name": "ipython",
    "version": 3
   },
   "file_extension": ".py",
   "mimetype": "text/x-python",
   "name": "python",
   "nbconvert_exporter": "python",
   "pygments_lexer": "ipython3",
   "version": "3.10.13"
  }
 },
 "nbformat": 4,
 "nbformat_minor": 5
}
