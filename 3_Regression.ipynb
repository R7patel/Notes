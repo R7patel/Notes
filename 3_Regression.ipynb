{
 "cells": [
  {
   "cell_type": "markdown",
   "id": "8f721b79",
   "metadata": {},
   "source": [
    "# Table of contents\n",
    "1. [Regression](#introduction)\n",
    "2. [Machine Learning Regression models](#listofmodels)\n",
    "    1. [Simple Linear Regression](#SLR)\n",
    "    2. [Multiple Linear Regression](#MLR)\n",
    "    3. [Polynomial Regression](#PR)\n",
    "    4. [Support Vector for Regression (SVR)](#SVR)\n",
    "    5. [Decision Tree Regression](#DecisionTreeRegression)\n",
    "    6. [Random Forest Regression](#RandomForestRegression)\n",
    "3. [Other](#other)"
   ]
  },
  {
   "cell_type": "markdown",
   "id": "0f2fd64d",
   "metadata": {},
   "source": [
    "# Regression  <a name=\"introduction\"></a>"
   ]
  },
  {
   "cell_type": "markdown",
   "id": "33e580dd",
   "metadata": {},
   "source": [
    "Regression models (both linear and non-linear) are used for predicting a real value, like salary for example. If your independent variable is time, then you are forecasting future values, otherwise your model is predicting present but unknown values. Regression technique vary from Linear Regression to SVR and Random Forests Regression."
   ]
  },
  {
   "cell_type": "markdown",
   "id": "e9d66b2a",
   "metadata": {},
   "source": [
    "http://diamondclover.com/simple-linear-regression.html"
   ]
  },
  {
   "cell_type": "markdown",
   "id": "98fdeccc",
   "metadata": {},
   "source": [
    "# Simple Linear Regression  <a name=\"SLR\"></a>"
   ]
  },
  {
   "cell_type": "markdown",
   "id": "d518d354",
   "metadata": {},
   "source": [
    "# Multiple Linear Regression  <a name=\"MLR\"></a>"
   ]
  },
  {
   "cell_type": "markdown",
   "id": "ffa8e7ea",
   "metadata": {},
   "source": [
    "# Polynomial Regression  <a name=\"PR\"></a>"
   ]
  },
  {
   "cell_type": "markdown",
   "id": "41fd42ed",
   "metadata": {},
   "source": [
    "# Support Vector for Regression (SVR) <a name=\"SVR\"></a>"
   ]
  },
  {
   "cell_type": "markdown",
   "id": "646f4fe0",
   "metadata": {},
   "source": [
    "# Decision Tree Regression  <a name=\"DecisionTreeRegression\"></a>"
   ]
  },
  {
   "cell_type": "markdown",
   "id": "d629a6c7",
   "metadata": {},
   "source": [
    "# Random Forest Regression  <a name=\"RandomForestRegression\"></a>"
   ]
  },
  {
   "cell_type": "code",
   "execution_count": null,
   "id": "9c4f3361-4d7f-48b9-9f7c-a80ceff613c9",
   "metadata": {},
   "outputs": [],
   "source": []
  }
 ],
 "metadata": {
  "kernelspec": {
   "display_name": "Python 3 (ipykernel)",
   "language": "python",
   "name": "python3"
  },
  "language_info": {
   "codemirror_mode": {
    "name": "ipython",
    "version": 3
   },
   "file_extension": ".py",
   "mimetype": "text/x-python",
   "name": "python",
   "nbconvert_exporter": "python",
   "pygments_lexer": "ipython3",
   "version": "3.10.13"
  }
 },
 "nbformat": 4,
 "nbformat_minor": 5
}
