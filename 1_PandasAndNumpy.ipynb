{
 "cells": [
  {
   "cell_type": "markdown",
   "metadata": {},
   "source": [
    "# Refrences"
   ]
  },
  {
   "cell_type": "markdown",
   "metadata": {},
   "source": [
    "https://pandas.pydata.org/docs/user_guide/dsintro.html"
   ]
  },
  {
   "cell_type": "markdown",
   "metadata": {},
   "source": [
    "https://medium.com/analytics-vidhya/pandas-complete-guide-a-z-36ba8bd15232"
   ]
  },
  {
   "cell_type": "markdown",
   "metadata": {},
   "source": [
    "# Cheat Sheet"
   ]
  },
  {
   "cell_type": "markdown",
   "metadata": {},
   "source": [
    "https://pandas.pydata.org/docs/user_guide/10min.html\n",
    "\n",
    "https://pandas.pydata.org/Pandas_Cheat_Sheet.pdf\n",
    "\n",
    "https://www.webpages.uidaho.edu/~stevel/cheatsheets/Pandas%20DataFrame%20Notes_12pages.pdf"
   ]
  },
  {
   "cell_type": "code",
   "execution_count": 1,
   "metadata": {},
   "outputs": [
    {
     "name": "stderr",
     "output_type": "stream",
     "text": [
      "C:\\Users\\rushi\\.conda\\envs\\NativeLearning\\lib\\site-packages\\IPython\\core\\display.py:431: UserWarning: Consider using IPython.display.IFrame instead\n",
      "  warnings.warn(\"Consider using IPython.display.IFrame instead\")\n"
     ]
    },
    {
     "data": {
      "text/html": [
       "<iframe src=https://pandas.pydata.org/docs/user_guide/10min.html width=700 height=350></iframe>"
      ],
      "text/plain": [
       "<IPython.core.display.HTML object>"
      ]
     },
     "execution_count": 1,
     "metadata": {},
     "output_type": "execute_result"
    }
   ],
   "source": [
    "from IPython.display import HTML\n",
    "HTML('<iframe src=https://pandas.pydata.org/docs/user_guide/10min.html width=700 height=350></iframe>')"
   ]
  },
  {
   "cell_type": "code",
   "execution_count": 2,
   "metadata": {
    "scrolled": true
   },
   "outputs": [
    {
     "data": {
      "text/html": [
       "<iframe src=https://pandas.pydata.org/Pandas_Cheat_Sheet.pdf width=700 height=350></iframe>"
      ],
      "text/plain": [
       "<IPython.core.display.HTML object>"
      ]
     },
     "execution_count": 2,
     "metadata": {},
     "output_type": "execute_result"
    }
   ],
   "source": [
    "from IPython.display import HTML\n",
    "HTML('<iframe src=https://pandas.pydata.org/Pandas_Cheat_Sheet.pdf width=700 height=350></iframe>')"
   ]
  },
  {
   "cell_type": "markdown",
   "metadata": {},
   "source": [
    "# File I/O\n",
    "# Info, Shape, Duplicated and Drop\n",
    "# Columns\n",
    "# NaN and Null Values\n",
    "# Imputation\n",
    "# Lambda Functions\n",
    "\n",
    "https://tigeranalytics.udemy.com/course/python-for-advanced-linear-regression-masterclass/learn/lecture/23694652#overview"
   ]
  },
  {
   "cell_type": "code",
   "execution_count": null,
   "metadata": {},
   "outputs": [],
   "source": []
  },
  {
   "cell_type": "code",
   "execution_count": null,
   "metadata": {},
   "outputs": [],
   "source": []
  },
  {
   "cell_type": "code",
   "execution_count": null,
   "metadata": {},
   "outputs": [],
   "source": []
  },
  {
   "cell_type": "code",
   "execution_count": null,
   "metadata": {},
   "outputs": [],
   "source": []
  },
  {
   "cell_type": "code",
   "execution_count": null,
   "metadata": {},
   "outputs": [],
   "source": []
  },
  {
   "cell_type": "code",
   "execution_count": null,
   "metadata": {},
   "outputs": [],
   "source": []
  },
  {
   "cell_type": "markdown",
   "metadata": {},
   "source": [
    "# Copy Pandas df"
   ]
  },
  {
   "cell_type": "code",
   "execution_count": null,
   "metadata": {},
   "outputs": [],
   "source": [
    "df2 = df1.copy() # This is important as sometimes variables points to same df"
   ]
  },
  {
   "cell_type": "markdown",
   "metadata": {},
   "source": [
    "# MAP function"
   ]
  },
  {
   "cell_type": "code",
   "execution_count": 6,
   "metadata": {},
   "outputs": [
    {
     "data": {
      "text/html": [
       "<div>\n",
       "<style scoped>\n",
       "    .dataframe tbody tr th:only-of-type {\n",
       "        vertical-align: middle;\n",
       "    }\n",
       "\n",
       "    .dataframe tbody tr th {\n",
       "        vertical-align: top;\n",
       "    }\n",
       "\n",
       "    .dataframe thead th {\n",
       "        text-align: right;\n",
       "    }\n",
       "</style>\n",
       "<table border=\"1\" class=\"dataframe\">\n",
       "  <thead>\n",
       "    <tr style=\"text-align: right;\">\n",
       "      <th></th>\n",
       "      <th>col1</th>\n",
       "      <th>col2</th>\n",
       "      <th>col3</th>\n",
       "    </tr>\n",
       "  </thead>\n",
       "  <tbody>\n",
       "    <tr>\n",
       "      <th>0</th>\n",
       "      <td>0</td>\n",
       "      <td>NaN</td>\n",
       "      <td>Yes</td>\n",
       "    </tr>\n",
       "    <tr>\n",
       "      <th>1</th>\n",
       "      <td>1</td>\n",
       "      <td>NaN</td>\n",
       "      <td>No</td>\n",
       "    </tr>\n",
       "    <tr>\n",
       "      <th>2</th>\n",
       "      <td>2</td>\n",
       "      <td>2.0</td>\n",
       "      <td>No</td>\n",
       "    </tr>\n",
       "    <tr>\n",
       "      <th>3</th>\n",
       "      <td>3</td>\n",
       "      <td>3.0</td>\n",
       "      <td>Yes</td>\n",
       "    </tr>\n",
       "  </tbody>\n",
       "</table>\n",
       "</div>"
      ],
      "text/plain": [
       "   col1  col2 col3\n",
       "0     0   NaN  Yes\n",
       "1     1   NaN   No\n",
       "2     2   2.0   No\n",
       "3     3   3.0  Yes"
      ]
     },
     "execution_count": 6,
     "metadata": {},
     "output_type": "execute_result"
    }
   ],
   "source": [
    "import pandas as pd\n",
    "d = {'col1': [0, 1, 2, 3],\n",
    "     'col2': pd.Series([2, 3], index=[2, 3]),\n",
    "     'col3':['Yes','No','No','Yes']}\n",
    "df = pd.DataFrame(data=d, index=[0, 1, 2, 3])\n",
    "df"
   ]
  },
  {
   "cell_type": "code",
   "execution_count": 7,
   "metadata": {},
   "outputs": [
    {
     "data": {
      "text/html": [
       "<div>\n",
       "<style scoped>\n",
       "    .dataframe tbody tr th:only-of-type {\n",
       "        vertical-align: middle;\n",
       "    }\n",
       "\n",
       "    .dataframe tbody tr th {\n",
       "        vertical-align: top;\n",
       "    }\n",
       "\n",
       "    .dataframe thead th {\n",
       "        text-align: right;\n",
       "    }\n",
       "</style>\n",
       "<table border=\"1\" class=\"dataframe\">\n",
       "  <thead>\n",
       "    <tr style=\"text-align: right;\">\n",
       "      <th></th>\n",
       "      <th>col1</th>\n",
       "      <th>col2</th>\n",
       "      <th>col3</th>\n",
       "      <th>cat_to_num</th>\n",
       "    </tr>\n",
       "  </thead>\n",
       "  <tbody>\n",
       "    <tr>\n",
       "      <th>0</th>\n",
       "      <td>0</td>\n",
       "      <td>NaN</td>\n",
       "      <td>Yes</td>\n",
       "      <td>1</td>\n",
       "    </tr>\n",
       "    <tr>\n",
       "      <th>1</th>\n",
       "      <td>1</td>\n",
       "      <td>NaN</td>\n",
       "      <td>No</td>\n",
       "      <td>0</td>\n",
       "    </tr>\n",
       "    <tr>\n",
       "      <th>2</th>\n",
       "      <td>2</td>\n",
       "      <td>2.0</td>\n",
       "      <td>No</td>\n",
       "      <td>0</td>\n",
       "    </tr>\n",
       "    <tr>\n",
       "      <th>3</th>\n",
       "      <td>3</td>\n",
       "      <td>3.0</td>\n",
       "      <td>Yes</td>\n",
       "      <td>1</td>\n",
       "    </tr>\n",
       "  </tbody>\n",
       "</table>\n",
       "</div>"
      ],
      "text/plain": [
       "   col1  col2 col3  cat_to_num\n",
       "0     0   NaN  Yes           1\n",
       "1     1   NaN   No           0\n",
       "2     2   2.0   No           0\n",
       "3     3   3.0  Yes           1"
      ]
     },
     "execution_count": 7,
     "metadata": {},
     "output_type": "execute_result"
    }
   ],
   "source": [
    "df['cat_to_num'] = df['col3'].map({'Yes':1,'No':0})\n",
    "df"
   ]
  },
  {
   "cell_type": "code",
   "execution_count": 9,
   "metadata": {},
   "outputs": [
    {
     "data": {
      "text/html": [
       "<div>\n",
       "<style scoped>\n",
       "    .dataframe tbody tr th:only-of-type {\n",
       "        vertical-align: middle;\n",
       "    }\n",
       "\n",
       "    .dataframe tbody tr th {\n",
       "        vertical-align: top;\n",
       "    }\n",
       "\n",
       "    .dataframe thead th {\n",
       "        text-align: right;\n",
       "    }\n",
       "</style>\n",
       "<table border=\"1\" class=\"dataframe\">\n",
       "  <thead>\n",
       "    <tr style=\"text-align: right;\">\n",
       "      <th></th>\n",
       "      <th>col1</th>\n",
       "      <th>col2</th>\n",
       "      <th>col3</th>\n",
       "      <th>cat_to_num</th>\n",
       "    </tr>\n",
       "  </thead>\n",
       "  <tbody>\n",
       "    <tr>\n",
       "      <th>count</th>\n",
       "      <td>4.000000</td>\n",
       "      <td>2.000000</td>\n",
       "      <td>4</td>\n",
       "      <td>4.00000</td>\n",
       "    </tr>\n",
       "    <tr>\n",
       "      <th>unique</th>\n",
       "      <td>NaN</td>\n",
       "      <td>NaN</td>\n",
       "      <td>2</td>\n",
       "      <td>NaN</td>\n",
       "    </tr>\n",
       "    <tr>\n",
       "      <th>top</th>\n",
       "      <td>NaN</td>\n",
       "      <td>NaN</td>\n",
       "      <td>Yes</td>\n",
       "      <td>NaN</td>\n",
       "    </tr>\n",
       "    <tr>\n",
       "      <th>freq</th>\n",
       "      <td>NaN</td>\n",
       "      <td>NaN</td>\n",
       "      <td>2</td>\n",
       "      <td>NaN</td>\n",
       "    </tr>\n",
       "    <tr>\n",
       "      <th>mean</th>\n",
       "      <td>1.500000</td>\n",
       "      <td>2.500000</td>\n",
       "      <td>NaN</td>\n",
       "      <td>0.50000</td>\n",
       "    </tr>\n",
       "    <tr>\n",
       "      <th>std</th>\n",
       "      <td>1.290994</td>\n",
       "      <td>0.707107</td>\n",
       "      <td>NaN</td>\n",
       "      <td>0.57735</td>\n",
       "    </tr>\n",
       "    <tr>\n",
       "      <th>min</th>\n",
       "      <td>0.000000</td>\n",
       "      <td>2.000000</td>\n",
       "      <td>NaN</td>\n",
       "      <td>0.00000</td>\n",
       "    </tr>\n",
       "    <tr>\n",
       "      <th>25%</th>\n",
       "      <td>0.750000</td>\n",
       "      <td>2.250000</td>\n",
       "      <td>NaN</td>\n",
       "      <td>0.00000</td>\n",
       "    </tr>\n",
       "    <tr>\n",
       "      <th>50%</th>\n",
       "      <td>1.500000</td>\n",
       "      <td>2.500000</td>\n",
       "      <td>NaN</td>\n",
       "      <td>0.50000</td>\n",
       "    </tr>\n",
       "    <tr>\n",
       "      <th>75%</th>\n",
       "      <td>2.250000</td>\n",
       "      <td>2.750000</td>\n",
       "      <td>NaN</td>\n",
       "      <td>1.00000</td>\n",
       "    </tr>\n",
       "    <tr>\n",
       "      <th>max</th>\n",
       "      <td>3.000000</td>\n",
       "      <td>3.000000</td>\n",
       "      <td>NaN</td>\n",
       "      <td>1.00000</td>\n",
       "    </tr>\n",
       "  </tbody>\n",
       "</table>\n",
       "</div>"
      ],
      "text/plain": [
       "            col1      col2 col3  cat_to_num\n",
       "count   4.000000  2.000000    4     4.00000\n",
       "unique       NaN       NaN    2         NaN\n",
       "top          NaN       NaN  Yes         NaN\n",
       "freq         NaN       NaN    2         NaN\n",
       "mean    1.500000  2.500000  NaN     0.50000\n",
       "std     1.290994  0.707107  NaN     0.57735\n",
       "min     0.000000  2.000000  NaN     0.00000\n",
       "25%     0.750000  2.250000  NaN     0.00000\n",
       "50%     1.500000  2.500000  NaN     0.50000\n",
       "75%     2.250000  2.750000  NaN     1.00000\n",
       "max     3.000000  3.000000  NaN     1.00000"
      ]
     },
     "execution_count": 9,
     "metadata": {},
     "output_type": "execute_result"
    }
   ],
   "source": [
    "df.describe(include='all')"
   ]
  },
  {
   "cell_type": "code",
   "execution_count": null,
   "metadata": {},
   "outputs": [],
   "source": [
    "# lamda functions in map"
   ]
  },
  {
   "cell_type": "markdown",
   "metadata": {},
   "source": [
    "# loc vs iloc"
   ]
  },
  {
   "cell_type": "markdown",
   "metadata": {},
   "source": [
    "https://stackoverflow.com/questions/31593201/how-are-iloc-and-loc-different"
   ]
  },
  {
   "cell_type": "markdown",
   "metadata": {},
   "source": [
    "<div class=\"s-prose js-post-body\" itemprop=\"text\">\n",
    "<h2>loc <em>vs.</em> iloc = Label <em>vs.</em> Location</h2>\n",
    "<p>The main distinction between the two methods is:</p>\n",
    "<ul>\n",
    "<li><p><code>loc</code> gets rows (and/or columns) with particular <strong>labels</strong>.</p>\n",
    "</li>\n",
    "<li><p><code>iloc</code> gets rows (and/or columns) at integer <strong>locations</strong>.</p>\n",
    "</li>\n",
    "</ul>\n",
    "<p>To demonstrate, consider a series <code>s</code> of characters with a non-monotonic integer index:</p>\n",
    "<pre class=\"lang-py s-code-block\"><code class=\"hljs language-python\"><span class=\"hljs-meta\">&gt;&gt;&gt; </span>s = pd.Series(<span class=\"hljs-built_in\">list</span>(<span class=\"hljs-string\">\"abcdef\"</span>), index=[<span class=\"hljs-number\">49</span>, <span class=\"hljs-number\">48</span>, <span class=\"hljs-number\">47</span>, <span class=\"hljs-number\">0</span>, <span class=\"hljs-number\">1</span>, <span class=\"hljs-number\">2</span>]) \n",
    "<span class=\"hljs-number\">49</span>    a\n",
    "<span class=\"hljs-number\">48</span>    b\n",
    "<span class=\"hljs-number\">47</span>    c\n",
    "<span class=\"hljs-number\">0</span>     d\n",
    "<span class=\"hljs-number\">1</span>     e\n",
    "<span class=\"hljs-number\">2</span>     f\n",
    "\n",
    "<span class=\"hljs-meta\">&gt;&gt;&gt; </span>s.loc[<span class=\"hljs-number\">0</span>]    <span class=\"hljs-comment\"># value at index label 0</span>\n",
    "<span class=\"hljs-string\">'d'</span>\n",
    "\n",
    "<span class=\"hljs-meta\">&gt;&gt;&gt; </span>s.iloc[<span class=\"hljs-number\">0</span>]   <span class=\"hljs-comment\"># value at index location 0</span>\n",
    "<span class=\"hljs-string\">'a'</span>\n",
    "\n",
    "<span class=\"hljs-meta\">&gt;&gt;&gt; </span>s.loc[<span class=\"hljs-number\">0</span>:<span class=\"hljs-number\">1</span>]  <span class=\"hljs-comment\"># rows at index labels between 0 and 1 (inclusive)</span>\n",
    "<span class=\"hljs-number\">0</span>    d\n",
    "<span class=\"hljs-number\">1</span>    e\n",
    "\n",
    "<span class=\"hljs-meta\">&gt;&gt;&gt; </span>s.iloc[<span class=\"hljs-number\">0</span>:<span class=\"hljs-number\">1</span>] <span class=\"hljs-comment\"># rows at index location between 0 and 1 (exclusive)</span>\n",
    "<span class=\"hljs-number\">49</span>    a\n",
    "</code></pre>\n",
    "<p>Here are some of the differences/similarities between <code>s.loc</code> and <code>s.iloc</code> when passed various objects:</p>\n",
    "<div class=\"s-table-container\">\n",
    "<table class=\"s-table\">\n",
    "<thead>\n",
    "<tr>\n",
    "<th>&lt;object&gt;</th>\n",
    "<th>description</th>\n",
    "<th><code>s.loc[&lt;object&gt;]</code></th>\n",
    "<th><code>s.iloc[&lt;object&gt;]</code></th>\n",
    "</tr>\n",
    "</thead>\n",
    "<tbody>\n",
    "<tr>\n",
    "<td><code>0</code></td>\n",
    "<td>single item</td>\n",
    "<td>Value at index <em>label</em> <code>0</code> (the string <code>'d'</code>)</td>\n",
    "<td>Value at index <em>location</em> 0 (the string <code>'a'</code>)</td>\n",
    "</tr>\n",
    "<tr>\n",
    "<td><code>0:1</code></td>\n",
    "<td>slice</td>\n",
    "<td><strong>Two</strong> rows (labels <code>0</code> and <code>1</code>)</td>\n",
    "<td><strong>One</strong> row (first row at location 0)</td>\n",
    "</tr>\n",
    "<tr>\n",
    "<td><code>1:47</code></td>\n",
    "<td>slice with out-of-bounds end</td>\n",
    "<td><strong>Zero</strong> rows (empty Series)</td>\n",
    "<td><strong>Five</strong> rows (location 1 onwards)</td>\n",
    "</tr>\n",
    "<tr>\n",
    "<td><code>1:47:-1</code></td>\n",
    "<td>slice with negative step</td>\n",
    "<td><strong>three</strong> rows (labels <code>1</code> back to <code>47</code>)</td>\n",
    "<td><strong>Zero</strong> rows (empty Series)</td>\n",
    "</tr>\n",
    "<tr>\n",
    "<td><code>[2, 0]</code></td>\n",
    "<td>integer list</td>\n",
    "<td><strong>Two</strong> rows with given labels</td>\n",
    "<td><strong>Two</strong> rows with given locations</td>\n",
    "</tr>\n",
    "<tr>\n",
    "<td><code>s &gt; 'e'</code></td>\n",
    "<td>Bool series (indicating which values have the property)</td>\n",
    "<td><strong>One</strong> row (containing <code>'f'</code>)</td>\n",
    "<td><code>NotImplementedError</code></td>\n",
    "</tr>\n",
    "<tr>\n",
    "<td><code>(s&gt;'e').values</code></td>\n",
    "<td>Bool array</td>\n",
    "<td><strong>One</strong> row (containing <code>'f'</code>)</td>\n",
    "<td>Same as <code>loc</code></td>\n",
    "</tr>\n",
    "<tr>\n",
    "<td><code>999</code></td>\n",
    "<td>int object not in index</td>\n",
    "<td><code>KeyError</code></td>\n",
    "<td><code>IndexError</code> (out of bounds)</td>\n",
    "</tr>\n",
    "<tr>\n",
    "<td><code>-1</code></td>\n",
    "<td>int object not in index</td>\n",
    "<td><code>KeyError</code></td>\n",
    "<td>Returns last value in <code>s</code></td>\n",
    "</tr>\n",
    "<tr>\n",
    "<td><code>lambda x: x.index[3]</code></td>\n",
    "<td>callable applied to series (here returning 3<sup>rd</sup> item in index)</td>\n",
    "<td><code>s.loc[s.index[3]]</code></td>\n",
    "<td><code>s.iloc[s.index[3]]</code></td>\n",
    "</tr>\n",
    "</tbody>\n",
    "</table>\n",
    "</div>\n",
    "<p><code>loc</code>'s label-querying capabilities extend well-beyond integer indexes and it's worth highlighting a couple of additional examples.</p>\n",
    "<p>Here's a Series where the index contains string objects:</p>\n",
    "<pre class=\"lang-py s-code-block\"><code class=\"hljs language-python\"><span class=\"hljs-meta\">&gt;&gt;&gt; </span>s2 = pd.Series(s.index, index=s.values)\n",
    "<span class=\"hljs-meta\">&gt;&gt;&gt; </span>s2\n",
    "a    <span class=\"hljs-number\">49</span>\n",
    "b    <span class=\"hljs-number\">48</span>\n",
    "c    <span class=\"hljs-number\">47</span>\n",
    "d     <span class=\"hljs-number\">0</span>\n",
    "e     <span class=\"hljs-number\">1</span>\n",
    "f     <span class=\"hljs-number\">2</span>\n",
    "</code></pre>\n",
    "<p>Since <code>loc</code> is label-based, it can fetch the first value in the Series using <code>s2.loc['a']</code>. It can also slice with non-integer objects:</p>\n",
    "<pre class=\"lang-py s-code-block\"><code class=\"hljs language-python\"><span class=\"hljs-meta\">&gt;&gt;&gt; </span>s2.loc[<span class=\"hljs-string\">'c'</span>:<span class=\"hljs-string\">'e'</span>]  <span class=\"hljs-comment\"># all rows lying between 'c' and 'e' (inclusive)</span>\n",
    "c    <span class=\"hljs-number\">47</span>\n",
    "d     <span class=\"hljs-number\">0</span>\n",
    "e     <span class=\"hljs-number\">1</span>\n",
    "</code></pre>\n",
    "<p>For DateTime indexes, we don't need to pass the exact date/time to fetch by label. For example:</p>\n",
    "<pre class=\"lang-py s-code-block\"><code class=\"hljs language-python\"><span class=\"hljs-meta\">&gt;&gt;&gt; </span>s3 = pd.Series(<span class=\"hljs-built_in\">list</span>(<span class=\"hljs-string\">'abcde'</span>), pd.date_range(<span class=\"hljs-string\">'now'</span>, periods=<span class=\"hljs-number\">5</span>, freq=<span class=\"hljs-string\">'M'</span>)) \n",
    "<span class=\"hljs-meta\">&gt;&gt;&gt; </span>s3\n",
    "<span class=\"hljs-number\">2021</span>-01-<span class=\"hljs-number\">31</span> <span class=\"hljs-number\">16</span>:<span class=\"hljs-number\">41</span>:<span class=\"hljs-number\">31.879768</span>    a\n",
    "<span class=\"hljs-number\">2021</span>-02-<span class=\"hljs-number\">28</span> <span class=\"hljs-number\">16</span>:<span class=\"hljs-number\">41</span>:<span class=\"hljs-number\">31.879768</span>    b\n",
    "<span class=\"hljs-number\">2021</span>-03-<span class=\"hljs-number\">31</span> <span class=\"hljs-number\">16</span>:<span class=\"hljs-number\">41</span>:<span class=\"hljs-number\">31.879768</span>    c\n",
    "<span class=\"hljs-number\">2021</span>-04-<span class=\"hljs-number\">30</span> <span class=\"hljs-number\">16</span>:<span class=\"hljs-number\">41</span>:<span class=\"hljs-number\">31.879768</span>    d\n",
    "<span class=\"hljs-number\">2021</span>-05-<span class=\"hljs-number\">31</span> <span class=\"hljs-number\">16</span>:<span class=\"hljs-number\">41</span>:<span class=\"hljs-number\">31.879768</span>    e\n",
    "</code></pre>\n",
    "<p>Then to fetch the row(s) for March/April 2021 we only need:</p>\n",
    "<pre class=\"lang-py s-code-block\"><code class=\"hljs language-python\"><span class=\"hljs-meta\">&gt;&gt;&gt; </span>s3.loc[<span class=\"hljs-string\">'2021-03'</span>:<span class=\"hljs-string\">'2021-04'</span>]\n",
    "<span class=\"hljs-number\">2021</span>-03-<span class=\"hljs-number\">31</span> <span class=\"hljs-number\">17</span>:04:<span class=\"hljs-number\">30.742316</span>    c\n",
    "<span class=\"hljs-number\">2021</span>-04-<span class=\"hljs-number\">30</span> <span class=\"hljs-number\">17</span>:04:<span class=\"hljs-number\">30.742316</span>    d\n",
    "</code></pre>\n",
    "<h2>Rows and Columns</h2>\n",
    "<p><code>loc</code> and <code>iloc</code> work the same way with DataFrames as they do with Series. It's useful to note that both methods can address columns and rows together.</p>\n",
    "<p>When given a tuple, the first element is used to index the rows and, if it exists, the second element is used to index the columns.</p>\n",
    "<p>Consider the DataFrame defined below:</p>\n",
    "<pre class=\"lang-py s-code-block\"><code class=\"hljs language-python\"><span class=\"hljs-meta\">&gt;&gt;&gt; </span><span class=\"hljs-keyword\">import</span> numpy <span class=\"hljs-keyword\">as</span> np \n",
    "<span class=\"hljs-meta\">&gt;&gt;&gt; </span>df = pd.DataFrame(np.arange(<span class=\"hljs-number\">25</span>).reshape(<span class=\"hljs-number\">5</span>, <span class=\"hljs-number\">5</span>),  \n",
    "                      index=<span class=\"hljs-built_in\">list</span>(<span class=\"hljs-string\">'abcde'</span>), \n",
    "                      columns=[<span class=\"hljs-string\">'x'</span>,<span class=\"hljs-string\">'y'</span>,<span class=\"hljs-string\">'z'</span>, <span class=\"hljs-number\">8</span>, <span class=\"hljs-number\">9</span>])\n",
    "<span class=\"hljs-meta\">&gt;&gt;&gt; </span>df\n",
    "    x   y   z   <span class=\"hljs-number\">8</span>   <span class=\"hljs-number\">9</span>\n",
    "a   <span class=\"hljs-number\">0</span>   <span class=\"hljs-number\">1</span>   <span class=\"hljs-number\">2</span>   <span class=\"hljs-number\">3</span>   <span class=\"hljs-number\">4</span>\n",
    "b   <span class=\"hljs-number\">5</span>   <span class=\"hljs-number\">6</span>   <span class=\"hljs-number\">7</span>   <span class=\"hljs-number\">8</span>   <span class=\"hljs-number\">9</span>\n",
    "c  <span class=\"hljs-number\">10</span>  <span class=\"hljs-number\">11</span>  <span class=\"hljs-number\">12</span>  <span class=\"hljs-number\">13</span>  <span class=\"hljs-number\">14</span>\n",
    "d  <span class=\"hljs-number\">15</span>  <span class=\"hljs-number\">16</span>  <span class=\"hljs-number\">17</span>  <span class=\"hljs-number\">18</span>  <span class=\"hljs-number\">19</span>\n",
    "e  <span class=\"hljs-number\">20</span>  <span class=\"hljs-number\">21</span>  <span class=\"hljs-number\">22</span>  <span class=\"hljs-number\">23</span>  <span class=\"hljs-number\">24</span>\n",
    "</code></pre>\n",
    "<p>Then for example:</p>\n",
    "<pre class=\"lang-py s-code-block\"><code class=\"hljs language-python\"><span class=\"hljs-meta\">&gt;&gt;&gt; </span>df.loc[<span class=\"hljs-string\">'c'</span>: , :<span class=\"hljs-string\">'z'</span>]  <span class=\"hljs-comment\"># rows 'c' and onwards AND columns up to 'z'</span>\n",
    "    x   y   z\n",
    "c  <span class=\"hljs-number\">10</span>  <span class=\"hljs-number\">11</span>  <span class=\"hljs-number\">12</span>\n",
    "d  <span class=\"hljs-number\">15</span>  <span class=\"hljs-number\">16</span>  <span class=\"hljs-number\">17</span>\n",
    "e  <span class=\"hljs-number\">20</span>  <span class=\"hljs-number\">21</span>  <span class=\"hljs-number\">22</span>\n",
    "\n",
    "<span class=\"hljs-meta\">&gt;&gt;&gt; </span>df.iloc[:, <span class=\"hljs-number\">3</span>]        <span class=\"hljs-comment\"># all rows, but only the column at index location 3</span>\n",
    "a     <span class=\"hljs-number\">3</span>\n",
    "b     <span class=\"hljs-number\">8</span>\n",
    "c    <span class=\"hljs-number\">13</span>\n",
    "d    <span class=\"hljs-number\">18</span>\n",
    "e    <span class=\"hljs-number\">23</span>\n",
    "</code></pre>\n",
    "<p>Sometimes we want to mix label and positional indexing methods for the rows and columns, somehow combining the capabilities of <code>loc</code> and <code>iloc</code>.</p>\n",
    "<p>For example, consider the following DataFrame. How best to slice the rows up to and including 'c' <em>and</em> take the first four columns?</p>\n",
    "<pre class=\"lang-py s-code-block\"><code class=\"hljs language-python\"><span class=\"hljs-meta\">&gt;&gt;&gt; </span><span class=\"hljs-keyword\">import</span> numpy <span class=\"hljs-keyword\">as</span> np \n",
    "<span class=\"hljs-meta\">&gt;&gt;&gt; </span>df = pd.DataFrame(np.arange(<span class=\"hljs-number\">25</span>).reshape(<span class=\"hljs-number\">5</span>, <span class=\"hljs-number\">5</span>),  \n",
    "                      index=<span class=\"hljs-built_in\">list</span>(<span class=\"hljs-string\">'abcde'</span>), \n",
    "                      columns=[<span class=\"hljs-string\">'x'</span>,<span class=\"hljs-string\">'y'</span>,<span class=\"hljs-string\">'z'</span>, <span class=\"hljs-number\">8</span>, <span class=\"hljs-number\">9</span>])\n",
    "<span class=\"hljs-meta\">&gt;&gt;&gt; </span>df\n",
    "    x   y   z   <span class=\"hljs-number\">8</span>   <span class=\"hljs-number\">9</span>\n",
    "a   <span class=\"hljs-number\">0</span>   <span class=\"hljs-number\">1</span>   <span class=\"hljs-number\">2</span>   <span class=\"hljs-number\">3</span>   <span class=\"hljs-number\">4</span>\n",
    "b   <span class=\"hljs-number\">5</span>   <span class=\"hljs-number\">6</span>   <span class=\"hljs-number\">7</span>   <span class=\"hljs-number\">8</span>   <span class=\"hljs-number\">9</span>\n",
    "c  <span class=\"hljs-number\">10</span>  <span class=\"hljs-number\">11</span>  <span class=\"hljs-number\">12</span>  <span class=\"hljs-number\">13</span>  <span class=\"hljs-number\">14</span>\n",
    "d  <span class=\"hljs-number\">15</span>  <span class=\"hljs-number\">16</span>  <span class=\"hljs-number\">17</span>  <span class=\"hljs-number\">18</span>  <span class=\"hljs-number\">19</span>\n",
    "e  <span class=\"hljs-number\">20</span>  <span class=\"hljs-number\">21</span>  <span class=\"hljs-number\">22</span>  <span class=\"hljs-number\">23</span>  <span class=\"hljs-number\">24</span>\n",
    "</code></pre>\n",
    "<p>We can achieve this result using <code>iloc</code> and the help of another method:</p>\n",
    "<pre class=\"lang-py s-code-block\"><code class=\"hljs language-python\"><span class=\"hljs-meta\">&gt;&gt;&gt; </span>df.iloc[:df.index.get_loc(<span class=\"hljs-string\">'c'</span>) + <span class=\"hljs-number\">1</span>, :<span class=\"hljs-number\">4</span>]\n",
    "    x   y   z   <span class=\"hljs-number\">8</span>\n",
    "a   <span class=\"hljs-number\">0</span>   <span class=\"hljs-number\">1</span>   <span class=\"hljs-number\">2</span>   <span class=\"hljs-number\">3</span>\n",
    "b   <span class=\"hljs-number\">5</span>   <span class=\"hljs-number\">6</span>   <span class=\"hljs-number\">7</span>   <span class=\"hljs-number\">8</span>\n",
    "c  <span class=\"hljs-number\">10</span>  <span class=\"hljs-number\">11</span>  <span class=\"hljs-number\">12</span>  <span class=\"hljs-number\">13</span>\n",
    "</code></pre>\n",
    "<p><a href=\"http://pandas.pydata.org/pandas-docs/version/0.19.1/generated/pandas.Index.get_loc.html\" rel=\"noreferrer\"><code>get_loc()</code></a> is an index method meaning \"get the position of the label in this index\". Note that since slicing with <code>iloc</code> is exclusive of its endpoint, we must add 1 to this value if we want row 'c' as well.</p>\n",
    "    </div>"
   ]
  },
  {
   "cell_type": "code",
   "execution_count": null,
   "metadata": {},
   "outputs": [],
   "source": []
  },
  {
   "cell_type": "code",
   "execution_count": null,
   "metadata": {},
   "outputs": [],
   "source": []
  },
  {
   "cell_type": "code",
   "execution_count": null,
   "metadata": {},
   "outputs": [],
   "source": []
  },
  {
   "cell_type": "code",
   "execution_count": null,
   "metadata": {},
   "outputs": [],
   "source": []
  },
  {
   "cell_type": "code",
   "execution_count": null,
   "metadata": {},
   "outputs": [],
   "source": []
  },
  {
   "cell_type": "code",
   "execution_count": null,
   "metadata": {},
   "outputs": [],
   "source": []
  },
  {
   "cell_type": "code",
   "execution_count": null,
   "metadata": {},
   "outputs": [],
   "source": []
  },
  {
   "cell_type": "code",
   "execution_count": null,
   "metadata": {},
   "outputs": [],
   "source": []
  },
  {
   "cell_type": "code",
   "execution_count": null,
   "metadata": {},
   "outputs": [],
   "source": []
  },
  {
   "cell_type": "markdown",
   "metadata": {},
   "source": [
    "# Numpy"
   ]
  },
  {
   "cell_type": "markdown",
   "metadata": {},
   "source": [
    "# Array\n",
    "# NaN and INF\n",
    "# Statistical Operations\n",
    "# Shape, Reshape, Ravel, Flatten\n",
    "# Sequence, Repetition, and Random Numbers\n",
    "# Where(), ArgMax(), ArgMin()\n",
    "# File I/O\n",
    "# Concatenate and Sorting\n",
    "# Working with Dates\n",
    "https://tigeranalytics.udemy.com/course/python-for-advanced-linear-regression-masterclass/learn/lecture/23694652#overview"
   ]
  },
  {
   "cell_type": "code",
   "execution_count": null,
   "metadata": {},
   "outputs": [],
   "source": []
  },
  {
   "cell_type": "markdown",
   "metadata": {},
   "source": [
    "#### np.where"
   ]
  },
  {
   "cell_type": "markdown",
   "metadata": {},
   "source": [
    "- df['var'] = np.where(df['var'] > var_upper_limit, var_upper_limit, np.where(df['var'] < var_lower_limit, var_lower_limit, df['var']))\n",
    "- np.round(df.describe(),2)"
   ]
  },
  {
   "cell_type": "markdown",
   "metadata": {},
   "source": [
    "# Statistics using pandas"
   ]
  },
  {
   "cell_type": "markdown",
   "metadata": {},
   "source": [
    "- df['var'].mean()\n",
    "- df['var'].std()\n",
    "- df['var'].quantile(0.75)\n",
    "- df['var'].max(),.min()"
   ]
  },
  {
   "cell_type": "markdown",
   "metadata": {},
   "source": [
    "median_points = reviews.points.median()\n",
    "countries = reviews.country.unique()\n",
    "reviews_per_country = reviews.country.value_counts()\n",
    "centered_price = reviews.price - reviews.price.mean()\n",
    "\n",
    "\n",
    "###\n",
    "reviews.ratio = reviews.points/reviews.price\n",
    "bargain_wine = reviews.loc[reviews.ratio.idxmax(),'title']\n",
    "#--\n",
    "bargain_idx = (reviews.points / reviews.price).idxmax()\n",
    "bargain_wine = reviews.loc[bargain_idx, 'title']\n",
    "###\n",
    "\n",
    "reviews['tropical'] =reviews.description.map(lambda p: p.count('tropical'))\n",
    "reviews['fruity'] = reviews.description.map(lambda p: p.count('fruity'))\n",
    "descriptor_counts = reviews[['tropical','fruity']]\n",
    "\n",
    "n_trop  = reviews.description.map(lambda desc: \"tropical\" in desc).sum()\n",
    "n_fruity = reviews.description.map(lambda desc: \"fruity\" in desc).sum()\n",
    "descriptor_counts = pd.Series([n_trop, n_fruity], index=['tropical', 'fruity'])\n",
    "\n",
    "\n",
    "def rateStars(x):\n",
    "    if x.country == 'Canada':\n",
    "        return 3\n",
    "    elif x.points>=95:\n",
    "        return 3\n",
    "    elif x.points<95 and x.points>=85:\n",
    "        return 2\n",
    "    else:\n",
    "        return 1\n",
    "\n",
    "star_ratings = reviews.apply(rateStars,axis='columns')\n",
    "\n",
    "\n",
    "reviews.groupby('winery').apply(lambda df: df.title.iloc[0])\n",
    "reviews.groupby(['country', 'province']).apply(lambda df: df.loc[df.points.idxmax()])\n",
    "reviews.groupby(['country']).price.agg([len, min, max])\n",
    "countries_reviewed = reviews.groupby(['country', 'province']).description.agg([len])\n",
    "countries_reviewed = countries_reviewed.reset_index()\n",
    "countries_reviewed.sort_values(by=['country', 'len'], ascending=False)\n",
    "countries_reviewed.sort_index()\n",
    "\n",
    "\n",
    "reviews_written = reviews.groupby('taster_twitter_handle').size()\n",
    "reviews_written = reviews.groupby('taster_twitter_handle').taster_twitter_handle.count()\n",
    "best_rating_per_price = reviews.groupby('price')['points'].max().sort_index()\n",
    "sorted_varieties = reviews.groupby('variety').price.agg([len,min,max]).sort_values(by=['min','max'],ascending=False)\n",
    "country_variety_counts = reviews.groupby(['country', 'variety']).size().sort_values(ascending=False) *********\n"
   ]
  },
  {
   "cell_type": "markdown",
   "metadata": {},
   "source": [
    "# Nulls and NaNs"
   ]
  },
  {
   "cell_type": "markdown",
   "metadata": {},
   "source": [
    "# What is the difference between sklearn's transform() and predict() methods?"
   ]
  },
  {
   "cell_type": "markdown",
   "metadata": {},
   "source": [
    "https://stackoverflow.com/questions/62239470/what-is-the-difference-between-sklearns-transform-and-predict-methods\n",
    "\n",
    "<div class=\"s-prose js-post-body\" itemprop=\"text\">\n",
    "<p><code>predict</code> methods take the input features and return something that is <em>qualitatively</em> different, i.e. labels <code>y</code> (in supervised settings) or cluster memberships (in most clustering settings).</p>\n",
    "<p><code>transform</code>, on the other hand, as its name already implies, returns something that is qualitatively <em>similar</em> to its input but expressed in a different <em>form</em>, i.e. scaled features, PCA features etc. And as a rule, they are usually accompanied with a respective <code>inverse_transform</code> method to return the input to its original form (while arguably we cannot imagine an <code>inverse_predict</code> method, to go from labels or cluster memberships to features).</p>\n",
    "<p>This difference is readily apparent in cases such as the ones you mention, where both <code>predict</code> and <code>transform</code> methods are available; in kmeans, for example, <code>predict(X)</code> will return cluster memberships, but <code>transform(X)</code> will return a transformation (i.e. different version) <code>X_new</code> of the input features.</p>\n",
    "    </div>"
   ]
  },
  {
   "cell_type": "code",
   "execution_count": null,
   "metadata": {},
   "outputs": [],
   "source": []
  },
  {
   "cell_type": "code",
   "execution_count": null,
   "metadata": {},
   "outputs": [],
   "source": []
  },
  {
   "cell_type": "code",
   "execution_count": null,
   "metadata": {},
   "outputs": [],
   "source": []
  },
  {
   "cell_type": "markdown",
   "metadata": {},
   "source": [
    "# MISC"
   ]
  },
  {
   "cell_type": "code",
   "execution_count": 3,
   "metadata": {},
   "outputs": [
    {
     "ename": "NameError",
     "evalue": "name 'earthquakes' is not defined",
     "output_type": "error",
     "traceback": [
      "\u001b[1;31m---------------------------------------------------------------------------\u001b[0m",
      "\u001b[1;31mNameError\u001b[0m                                 Traceback (most recent call last)",
      "Cell \u001b[1;32mIn[3], line 1\u001b[0m\n\u001b[1;32m----> 1\u001b[0m date_lengths \u001b[38;5;241m=\u001b[39m \u001b[43mearthquakes\u001b[49m\u001b[38;5;241m.\u001b[39mDate\u001b[38;5;241m.\u001b[39mstr\u001b[38;5;241m.\u001b[39mlen()\n\u001b[0;32m      2\u001b[0m date_lengths\u001b[38;5;241m.\u001b[39mvalue_counts()\n\u001b[0;32m      3\u001b[0m indices \u001b[38;5;241m=\u001b[39m np\u001b[38;5;241m.\u001b[39mwhere([date_lengths \u001b[38;5;241m==\u001b[39m \u001b[38;5;241m24\u001b[39m])[\u001b[38;5;241m1\u001b[39m]\n",
      "\u001b[1;31mNameError\u001b[0m: name 'earthquakes' is not defined"
     ]
    }
   ],
   "source": [
    "date_lengths = earthquakes.Date.str.len()\n",
    "date_lengths.value_counts()\n",
    "indices = np.where([date_lengths == 24])[1]\n",
    "print('Indices with corrupted data:', indices)\n",
    "earthquakes.loc[indices]"
   ]
  },
  {
   "cell_type": "code",
   "execution_count": null,
   "metadata": {},
   "outputs": [],
   "source": [
    "# convert to lower case\n",
    "professors['Country'] = professors['Country'].str.lower()\n",
    "# remove trailing white spaces\n",
    "professors['Country'] = professors['Country'].str.strip()"
   ]
  },
  {
   "cell_type": "code",
   "execution_count": null,
   "metadata": {},
   "outputs": [],
   "source": [
    "# helpful modules\n",
    "import fuzzywuzzy\n",
    "from fuzzywuzzy import process\n",
    "import charset_normalizer\n",
    "\n",
    "# get the top 10 closest matches to \"south korea\"\n",
    "matches = fuzzywuzzy.process.extract(\"south korea\", countries, limit=10, scorer=fuzzywuzzy.fuzz.token_sort_ratio)\n",
    "\n",
    "# take a look at them\n",
    "matches\n",
    "\n",
    "\n",
    "# function to replace rows in the provided column of the provided dataframe\n",
    "# that match the provided string above the provided ratio with the provided string\n",
    "def replace_matches_in_column(df, column, string_to_match, min_ratio = 47):\n",
    "    # get a list of unique strings\n",
    "    strings = df[column].unique()\n",
    "    \n",
    "    # get the top 10 closest matches to our input string\n",
    "    matches = fuzzywuzzy.process.extract(string_to_match, strings, \n",
    "                                         limit=10, scorer=fuzzywuzzy.fuzz.token_sort_ratio)\n",
    "\n",
    "    # only get matches with a ratio > 90\n",
    "    close_matches = [matches[0] for matches in matches if matches[1] >= min_ratio]\n",
    "\n",
    "    # get the rows of all the close matches in our dataframe\n",
    "    rows_with_matches = df[column].isin(close_matches)\n",
    "\n",
    "    # replace all rows with close matches with the input matches \n",
    "    df.loc[rows_with_matches, column] = string_to_match\n",
    "    \n",
    "    # let us know the function's done\n",
    "    print(\"All done!\")\n"
   ]
  },
  {
   "cell_type": "code",
   "execution_count": 4,
   "metadata": {},
   "outputs": [
    {
     "ename": "NameError",
     "evalue": "name 'professors' is not defined",
     "output_type": "error",
     "traceback": [
      "\u001b[1;31m---------------------------------------------------------------------------\u001b[0m",
      "\u001b[1;31mNameError\u001b[0m                                 Traceback (most recent call last)",
      "Cell \u001b[1;32mIn[4], line 1\u001b[0m\n\u001b[1;32m----> 1\u001b[0m \u001b[43mprofessors\u001b[49m[\u001b[38;5;124m'\u001b[39m\u001b[38;5;124mGraduated from\u001b[39m\u001b[38;5;124m'\u001b[39m]\u001b[38;5;241m.\u001b[39mdrop_duplicates()\u001b[38;5;241m.\u001b[39msort_values(ascending\u001b[38;5;241m=\u001b[39m\u001b[38;5;28;01mFalse\u001b[39;00m)\n",
      "\u001b[1;31mNameError\u001b[0m: name 'professors' is not defined"
     ]
    }
   ],
   "source": [
    "professors['Graduated from'].drop_duplicates().sort_values(ascending=False)"
   ]
  },
  {
   "cell_type": "code",
   "execution_count": 5,
   "metadata": {},
   "outputs": [
    {
     "ename": "NameError",
     "evalue": "name 'professors' is not defined",
     "output_type": "error",
     "traceback": [
      "\u001b[1;31m---------------------------------------------------------------------------\u001b[0m",
      "\u001b[1;31mNameError\u001b[0m                                 Traceback (most recent call last)",
      "Cell \u001b[1;32mIn[5], line 2\u001b[0m\n\u001b[0;32m      1\u001b[0m \u001b[38;5;66;03m# TODO: Your code here\u001b[39;00m\n\u001b[1;32m----> 2\u001b[0m Graduated_from\u001b[38;5;241m=\u001b[39m\u001b[38;5;28msorted\u001b[39m(\u001b[43mprofessors\u001b[49m[\u001b[38;5;124m'\u001b[39m\u001b[38;5;124mGraduated from\u001b[39m\u001b[38;5;124m'\u001b[39m]\u001b[38;5;241m.\u001b[39munique())\n\u001b[0;32m      3\u001b[0m Graduated_from\n",
      "\u001b[1;31mNameError\u001b[0m: name 'professors' is not defined"
     ]
    }
   ],
   "source": [
    "# TODO: Your code here\n",
    "Graduated_from=sorted(professors['Graduated from'].unique())\n",
    "Graduated_from"
   ]
  },
  {
   "cell_type": "code",
   "execution_count": null,
   "metadata": {},
   "outputs": [],
   "source": []
  },
  {
   "cell_type": "code",
   "execution_count": null,
   "metadata": {},
   "outputs": [],
   "source": []
  },
  {
   "cell_type": "code",
   "execution_count": null,
   "metadata": {},
   "outputs": [],
   "source": []
  },
  {
   "cell_type": "code",
   "execution_count": null,
   "metadata": {},
   "outputs": [],
   "source": []
  },
  {
   "cell_type": "code",
   "execution_count": null,
   "metadata": {},
   "outputs": [],
   "source": []
  }
 ],
 "metadata": {
  "kernelspec": {
   "display_name": "Python 3 (ipykernel)",
   "language": "python",
   "name": "python3"
  },
  "language_info": {
   "codemirror_mode": {
    "name": "ipython",
    "version": 3
   },
   "file_extension": ".py",
   "mimetype": "text/x-python",
   "name": "python",
   "nbconvert_exporter": "python",
   "pygments_lexer": "ipython3",
   "version": "3.10.13"
  }
 },
 "nbformat": 4,
 "nbformat_minor": 4
}
