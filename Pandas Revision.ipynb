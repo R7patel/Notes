{
 "cells": [
  {
   "cell_type": "code",
   "execution_count": null,
   "metadata": {},
   "outputs": [],
   "source": [
    "median_points = reviews.points.median()\n",
    "countries = reviews.country.unique()\n",
    "reviews_per_country = reviews.country.value_counts()\n",
    "centered_price = reviews.price - reviews.price.mean()\n",
    "\n",
    "\n",
    "###\n",
    "reviews.ratio = reviews.points/reviews.price\n",
    "bargain_wine = reviews.loc[reviews.ratio.idxmax(),'title']\n",
    "#--\n",
    "bargain_idx = (reviews.points / reviews.price).idxmax()\n",
    "bargain_wine = reviews.loc[bargain_idx, 'title']\n",
    "###\n",
    "\n",
    "reviews['tropical'] =reviews.description.map(lambda p: p.count('tropical'))\n",
    "reviews['fruity'] = reviews.description.map(lambda p: p.count('fruity'))\n",
    "descriptor_counts = reviews[['tropical','fruity']]\n",
    "\n",
    "n_trop  = reviews.description.map(lambda desc: \"tropical\" in desc).sum()\n",
    "n_fruity = reviews.description.map(lambda desc: \"fruity\" in desc).sum()\n",
    "descriptor_counts = pd.Series([n_trop, n_fruity], index=['tropical', 'fruity'])\n",
    "\n",
    "\n",
    "def rateStars(x):\n",
    "    if x.country == 'Canada':\n",
    "        return 3\n",
    "    elif x.points>=95:\n",
    "        return 3\n",
    "    elif x.points<95 and x.points>=85:\n",
    "        return 2\n",
    "    else:\n",
    "        return 1\n",
    "\n",
    "star_ratings = reviews.apply(rateStars,axis='columns')\n",
    "\n",
    "\n",
    "reviews.groupby('winery').apply(lambda df: df.title.iloc[0])\n",
    "reviews.groupby(['country', 'province']).apply(lambda df: df.loc[df.points.idxmax()])\n",
    "reviews.groupby(['country']).price.agg([len, min, max])\n",
    "countries_reviewed = reviews.groupby(['country', 'province']).description.agg([len])\n",
    "countries_reviewed = countries_reviewed.reset_index()\n",
    "countries_reviewed.sort_values(by=['country', 'len'], ascending=False)\n",
    "countries_reviewed.sort_index()\n",
    "\n",
    "\n",
    "reviews_written = reviews.groupby('taster_twitter_handle').size()\n",
    "reviews_written = reviews.groupby('taster_twitter_handle').taster_twitter_handle.count()\n",
    "best_rating_per_price = reviews.groupby('price')['points'].max().sort_index()\n",
    "sorted_varieties = reviews.groupby('variety').price.agg([len,min,max]).sort_values(by=['min','max'],ascending=False)\n",
    "country_variety_counts = reviews.groupby(['country', 'variety']).size().sort_values(ascending=False) *********\n"
   ]
  }
 ],
 "metadata": {
  "kernelspec": {
   "display_name": "Python 3",
   "language": "python",
   "name": "python3"
  },
  "language_info": {
   "codemirror_mode": {
    "name": "ipython",
    "version": 3
   },
   "file_extension": ".py",
   "mimetype": "text/x-python",
   "name": "python",
   "nbconvert_exporter": "python",
   "pygments_lexer": "ipython3",
   "version": "3.8.3"
  }
 },
 "nbformat": 4,
 "nbformat_minor": 4
}
