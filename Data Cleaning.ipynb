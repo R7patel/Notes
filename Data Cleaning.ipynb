{
 "cells": [
  {
   "cell_type": "code",
   "execution_count": 1,
   "metadata": {},
   "outputs": [],
   "source": [
    "import pandas as pd\n",
    "import numpy as np"
   ]
  },
  {
   "cell_type": "code",
   "execution_count": 1,
   "id": "de1b5bf8",
   "metadata": {},
   "outputs": [
    {
     "name": "stdout",
     "output_type": "stream",
     "text": [
      "Hello World\n"
     ]
    }
   ],
   "source": [
    "print(\"Hello World\")"
   ]
  },
  {
   "cell_type": "code",
   "execution_count": 2,
   "id": "5b516e60",
   "metadata": {},
   "outputs": [
    {
     "name": "stdout",
     "output_type": "stream",
     "text": [
      "4\n",
      "6\n",
      "8\n",
      "10\n",
      "12\n",
      "14\n",
      "16\n",
      "18\n",
      "20\n",
      "22\n"
     ]
    }
   ],
   "source": [
    "for i in range(4,24,2):\n",
    "    print(i)"
   ]
  },
  {
   "cell_type": "markdown",
   "metadata": {},
   "source": [
    "# Handeling Null Values"
   ]
  },
  {
   "cell_type": "code",
   "execution_count": 3,
   "metadata": {},
   "outputs": [
    {
     "name": "stdout",
     "output_type": "stream",
     "text": [
      "     Name  ID Salary  Role\n",
      "0  Pankaj   1    100   CEO\n",
      "1  Meghna   2    200  None\n",
      "2   David   3    NaN   NaT\n",
      "3    Lisa   4    NaT   NaT \n",
      "\n",
      "\n"
     ]
    }
   ],
   "source": [
    "# https://www.journaldev.com/33492/pandas-dropna-drop-null-na-values-from-dataframe\n",
    "\n",
    "\n",
    "d1 = {'Name': ['Pankaj', 'Meghna', 'David', 'Lisa'], 'ID': [1, 2, 3, 4], 'Salary': [100, 200, np.nan, pd.NaT],\n",
    "      'Role': ['CEO', None, pd.NaT, pd.NaT]}\n",
    "\n",
    "df = pd.DataFrame(d1)\n",
    "\n",
    "print(df,\"\\n\\n\")"
   ]
  },
  {
   "cell_type": "code",
   "execution_count": 7,
   "metadata": {},
   "outputs": [
    {
     "data": {
      "text/html": [
       "<div>\n",
       "<style scoped>\n",
       "    .dataframe tbody tr th:only-of-type {\n",
       "        vertical-align: middle;\n",
       "    }\n",
       "\n",
       "    .dataframe tbody tr th {\n",
       "        vertical-align: top;\n",
       "    }\n",
       "\n",
       "    .dataframe thead th {\n",
       "        text-align: right;\n",
       "    }\n",
       "</style>\n",
       "<table border=\"1\" class=\"dataframe\">\n",
       "  <thead>\n",
       "    <tr style=\"text-align: right;\">\n",
       "      <th></th>\n",
       "      <th>Feature</th>\n",
       "      <th>Null Count</th>\n",
       "      <th>Null Ratio</th>\n",
       "    </tr>\n",
       "  </thead>\n",
       "  <tbody>\n",
       "    <tr>\n",
       "      <th>0</th>\n",
       "      <td>Role</td>\n",
       "      <td>3</td>\n",
       "      <td>75.0</td>\n",
       "    </tr>\n",
       "    <tr>\n",
       "      <th>1</th>\n",
       "      <td>Salary</td>\n",
       "      <td>2</td>\n",
       "      <td>50.0</td>\n",
       "    </tr>\n",
       "  </tbody>\n",
       "</table>\n",
       "</div>"
      ],
      "text/plain": [
       "  Feature  Null Count  Null Ratio\n",
       "0    Role           3        75.0\n",
       "1  Salary           2        50.0"
      ]
     },
     "execution_count": 7,
     "metadata": {},
     "output_type": "execute_result"
    }
   ],
   "source": [
    "na_ratio = (df.isnull().sum() / len(df)) * 100\n",
    "na_ratio = na_ratio.drop(na_ratio[na_ratio == 0].index).sort_values(ascending=False)\n",
    "\n",
    "na_count = df.isnull().sum()\n",
    "na_count = na_count.drop(na_count[na_count == 0].index).sort_values(ascending=False)\n",
    "\n",
    "missing_data = pd.DataFrame({'Null Count':na_count,'Null Ratio' :na_ratio})\n",
    "missing_data = missing_data.reset_index().rename(columns={'index': 'Feature'})\n",
    "missing_data"
   ]
  },
  {
   "cell_type": "code",
   "execution_count": 8,
   "metadata": {},
   "outputs": [
    {
     "data": {
      "text/plain": [
       "Text(0.5, 1.0, 'Percent missing data by feature')"
      ]
     },
     "execution_count": 8,
     "metadata": {},
     "output_type": "execute_result"
    },
    {
     "data": {
      "image/png": "[encoded data removed]",
      "text/plain": [
       "<Figure size 1080x864 with 1 Axes>"
      ]
     },
     "metadata": {},
     "output_type": "display_data"
    }
   ],
   "source": [
    "%matplotlib inline\n",
    "import matplotlib.pyplot as plt  # Matlab-style plotting\n",
    "import seaborn as sns\n",
    "color = sns.color_palette()\n",
    "sns.set_style('darkgrid')\n",
    "\n",
    "f, ax = plt.subplots(figsize=(15, 12))\n",
    "plt.xticks(rotation='90')\n",
    "sns.barplot(x=missing_data['Feature'], y=missing_data['Null Count'])\n",
    "plt.xlabel('Features', fontsize=15)\n",
    "plt.ylabel('Percent of missing values', fontsize=15)\n",
    "plt.title('Percent missing data by feature', fontsize=15)"
   ]
  },
  {
   "cell_type": "code",
   "execution_count": 11,
   "metadata": {},
   "outputs": [
    {
     "name": "stdout",
     "output_type": "stream",
     "text": [
      "Missing Numerical features:  []\n",
      "\n",
      "Missing Categorical features:  ['Role', 'Salary']\n"
     ]
    }
   ],
   "source": [
    "numerical_feats = df.dtypes[df.dtypes != \"object\"].index\n",
    "categorical_feats = df.dtypes[df.dtypes == \"object\"].index\n",
    "\n",
    "missing_features = missing_data['Feature'].tolist()\n",
    "missing_numerical_features = [x for x in missing_features if x in numerical_feats]\n",
    "missing_categorical_features = [x for x in missing_features if x in categorical_feats]\n",
    "\n",
    "\n",
    "print(\"Missing Numerical features: \", missing_numerical_features)\n",
    "print(\"\\nMissing Categorical features: \", missing_categorical_features)"
   ]
  },
  {
   "cell_type": "code",
   "execution_count": 9,
   "metadata": {},
   "outputs": [
    {
     "name": "stdout",
     "output_type": "stream",
     "text": [
      "Following columns were dropped because more than 70 % are missing:: ['Role']\n"
     ]
    }
   ],
   "source": [
    "drop_ratio = 70\n",
    "drop_cols = missing_data.loc[missing_data['Null Ratio']>70,'Feature'].tolist()\n",
    "\n",
    "print(\"Following columns were dropped because more than\",drop_ratio,\"% are missing::\", drop_cols)"
   ]
  },
  {
   "cell_type": "code",
   "execution_count": 2,
   "id": "2d270a52",
   "metadata": {},
   "outputs": [
    {
     "name": "stdout",
     "output_type": "stream",
     "text": [
      "     Name  ID Salary  Role\n",
      "0  Pankaj   1    100   CEO\n",
      "1  Meghna   2    200  None\n",
      "2   David   3    NaN   NaT\n",
      "3    Lisa   4    NaT   NaT \n",
      "\n",
      "\n",
      "     Name  ID Salary Role\n",
      "0  Pankaj   1    100  CEO \n",
      "\n",
      "\n",
      "     Name  ID\n",
      "0  Pankaj   1\n",
      "1  Meghna   2\n",
      "2   David   3\n",
      "3    Lisa   4\n"
     ]
    }
   ],
   "source": [
    "\n",
    "# drop all rows with any NaN and NaT values\n",
    "df1 = df.dropna()\n",
    "print(df1,\"\\n\\n\")\n",
    "\n",
    "\n",
    "# Drop columns with any NaN and NaT values\n",
    "df2 = df.dropna(axis=1)\n",
    "print(df2)"
   ]
  },
  {
   "cell_type": "code",
   "execution_count": null,
   "id": "6779802b",
   "metadata": {},
   "outputs": [],
   "source": []
  },
  {
   "cell_type": "code",
   "execution_count": null,
   "id": "14540eaa",
   "metadata": {},
   "outputs": [],
   "source": []
  }
 ],
 "metadata": {
  "kernelspec": {
   "display_name": "Python 3",
   "language": "python",
   "name": "python3"
  },
  "language_info": {
   "codemirror_mode": {
    "name": "ipython",
    "version": 3
   },
   "file_extension": ".py",
   "mimetype": "text/x-python",
   "name": "python",
   "nbconvert_exporter": "python",
   "pygments_lexer": "ipython3",
   "version": "3.8.11"
  }
 },
 "nbformat": 4,
 "nbformat_minor": 5
}
