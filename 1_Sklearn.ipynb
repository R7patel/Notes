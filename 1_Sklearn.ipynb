{
 "cells": [
  {
   "cell_type": "markdown",
   "id": "1c54731d-426b-4319-b846-eeeb981ba426",
   "metadata": {},
   "source": [
    "# Sklearn\n",
    "Numpy + SciPy + matplotlib => Sklearn\n",
    "\n",
    "- very fast and effecient\n",
    "- Needs data in array (ndarray)\n",
    "- Incredible documentation\n",
    "- Numerical stability (can deal with very small or very big numbers which other libraries cant)\n",
    "- Variety\n",
    "    - Regression\n",
    "    - Classification\n",
    "    - Clustering\n",
    "    - Support Vector Machines\n",
    "    - Dimentionality reduction\n",
    "- Deep learning though have better alternatives"
   ]
  },
  {
   "cell_type": "markdown",
   "id": "68d16d37-8c8e-4f4c-ae5e-20cb88b5ef96",
   "metadata": {},
   "source": [
    "# Regression shortcuts\n",
    "<ul>\n",
    "    <li>reg = LinearRegression()</li>\n",
    "    <li>reg.fix(X,y)</li>\n",
    "    <li>reg.predict(X)</li>\n",
    "    <li>r2=reg.score(X,y) #r2</li>\n",
    "    <li>reg.coef_</li>\n",
    "    <li>reg.intercept_</li> \n",
    "    <li>adjusted_r2=1-(1-r2)*(n-1)/(n-p-1) where n=X.shape[0] and p=X.shape[1]</li> \n",
    "</ul>"
   ]
  },
  {
   "cell_type": "markdown",
   "id": "49f21ee1-f2dc-4b8e-abea-8178b67e9ea7",
   "metadata": {},
   "source": [
    "# Train Test Split"
   ]
  },
  {
   "cell_type": "code",
   "execution_count": 2,
   "id": "6144da86-3f2e-4a45-b14c-b135c33952ef",
   "metadata": {},
   "outputs": [
    {
     "ename": "NameError",
     "evalue": "name 'train_test_split' is not defined",
     "output_type": "error",
     "traceback": [
      "\u001b[1;31m---------------------------------------------------------------------------\u001b[0m",
      "\u001b[1;31mNameError\u001b[0m                                 Traceback (most recent call last)",
      "Cell \u001b[1;32mIn[2], line 1\u001b[0m\n\u001b[1;32m----> 1\u001b[0m X_train, X_test, y_train, y_test \u001b[38;5;241m=\u001b[39m \u001b[43mtrain_test_split\u001b[49m(X,y,test_size \u001b[38;5;241m=\u001b[39m\u001b[38;5;241m0.20\u001b[39m,random_state\u001b[38;5;241m=\u001b[39m\u001b[38;5;241m0\u001b[39m)\n",
      "\u001b[1;31mNameError\u001b[0m: name 'train_test_split' is not defined"
     ]
    }
   ],
   "source": [
    "# from sklearn.model_selection import train_test_split\n",
    "# X_train, X_test, y_train, y_test = train_test_split(X,y,test_size =0.20,random_state=42, shuffle=True)"
   ]
  },
  {
   "cell_type": "code",
   "execution_count": null,
   "id": "60eb76c9-6a8c-4098-a0dd-f7f9842c1360",
   "metadata": {},
   "outputs": [],
   "source": []
  }
 ],
 "metadata": {
  "kernelspec": {
   "display_name": "Python 3 (ipykernel)",
   "language": "python",
   "name": "python3"
  },
  "language_info": {
   "codemirror_mode": {
    "name": "ipython",
    "version": 3
   },
   "file_extension": ".py",
   "mimetype": "text/x-python",
   "name": "python",
   "nbconvert_exporter": "python",
   "pygments_lexer": "ipython3",
   "version": "3.10.13"
  }
 },
 "nbformat": 4,
 "nbformat_minor": 5
}
