{
 "cells": [
  {
   "cell_type": "markdown",
   "metadata": {},
   "source": [
    "# The Unix Shell"
   ]
  },
  {
   "cell_type": "markdown",
   "metadata": {},
   "source": [
    "[https://swcarpentry.github.io/shell-novice/]"
   ]
  },
  {
   "cell_type": "markdown",
   "metadata": {},
   "source": [
    "### Introducing the Shell"
   ]
  },
  {
   "cell_type": "markdown",
   "metadata": {},
   "source": [
    "<ul>\n",
    "   <li>\n",
    "      <p>A shell is a program whose primary purpose is to read commands and run other programs.</p>\n",
    "   </li>\n",
    "   <li>\n",
    "      <p>This lesson uses Bash, the default shell in many implementations of Unix.</p>\n",
    "   </li>\n",
    "   <li>\n",
    "      <p>Programs can be run in Bash by entering commands at the command-line prompt.</p>\n",
    "   </li>\n",
    "   <li>\n",
    "      <p>The shell’s main advantages are its high action-to-keystroke ratio, its support for automating repetitive tasks, and its capacity to access networked machines.</p>\n",
    "   </li>\n",
    "   <li>\n",
    "      <p>The shell’s main disadvantages are its primarily textual nature and how cryptic its commands and operation can be.</p>\n",
    "   </li>\n",
    "</ul>"
   ]
  },
  {
   "cell_type": "markdown",
   "metadata": {},
   "source": [
    "### Navigating Files and Directories"
   ]
  },
  {
   "cell_type": "markdown",
   "metadata": {},
   "source": [
    "<ul>\n",
    "      <li>\n",
    "         <p>The file system is responsible for managing information on the disk.</p>\n",
    "      </li>\n",
    "      <li>\n",
    "         <p>Information is stored in files, which are stored in directories (folders).</p>\n",
    "      </li>\n",
    "      <li>\n",
    "         <p>Directories can also store other directories, which then form a directory tree.</p>\n",
    "      </li>\n",
    "      <li>\n",
    "         <p><code class=\"language-plaintext highlighter-rouge\">pwd</code> prints the user’s current working directory.</p>\n",
    "      </li>\n",
    "      <li>\n",
    "         <p><code class=\"language-plaintext highlighter-rouge\">ls [path]</code> prints a listing of a specific file or directory; <code class=\"language-plaintext highlighter-rouge\">ls</code> on its own lists the current working directory.</p>\n",
    "      </li>\n",
    "      <li>\n",
    "         <p><code class=\"language-plaintext highlighter-rouge\">cd [path]</code> changes the current working directory.</p>\n",
    "      </li>\n",
    "      <li>\n",
    "         <p>Most commands take options that begin with a single <code class=\"language-plaintext highlighter-rouge\">-</code>.</p>\n",
    "      </li>\n",
    "      <li>\n",
    "         <p>Directory names in a path are separated with <code class=\"language-plaintext highlighter-rouge\">/</code> on Unix, but <code class=\"language-plaintext highlighter-rouge\">\\</code> on Windows.</p>\n",
    "      </li>\n",
    "      <li>\n",
    "         <p><code class=\"language-plaintext highlighter-rouge\">/</code> on its own is the root directory of the whole file system.</p>\n",
    "      </li>\n",
    "      <li>\n",
    "         <p>An absolute path specifies a location from the root of the file system.</p>\n",
    "      </li>\n",
    "      <li>\n",
    "         <p>A relative path specifies a location starting from the current location.</p>\n",
    "      </li>\n",
    "      <li>\n",
    "         <p><code class=\"language-plaintext highlighter-rouge\">.</code> on its own means ‘the current directory’; <code class=\"language-plaintext highlighter-rouge\">..</code> means ‘the directory above the current one’.</p>\n",
    "      </li>\n",
    "</ul>"
   ]
  },
  {
   "cell_type": "markdown",
   "metadata": {},
   "source": [
    "### Working With Files and Directories"
   ]
  },
  {
   "cell_type": "markdown",
   "metadata": {},
   "source": [
    "<ul>\n",
    "   <li>\n",
    "      <p><code class=\"language-plaintext highlighter-rouge\">cp [old] [new]</code> copies a file.</p>\n",
    "   </li>\n",
    "   <li>\n",
    "      <p><code class=\"language-plaintext highlighter-rouge\">mkdir [path]</code> creates a new directory.</p>\n",
    "   </li>\n",
    "   <li>\n",
    "      <p><code class=\"language-plaintext highlighter-rouge\">mv [old] [new]</code> moves (renames) a file or directory.</p>\n",
    "   </li>\n",
    "   <li>\n",
    "      <p><code class=\"language-plaintext highlighter-rouge\">rm [path]</code> removes (deletes) a file.</p>\n",
    "   </li>\n",
    "   <li>\n",
    "      <p><code class=\"language-plaintext highlighter-rouge\">*</code> matches zero or more characters in a filename, so <code class=\"language-plaintext highlighter-rouge\">*.txt</code> matches all files ending in <code class=\"language-plaintext highlighter-rouge\">.txt</code>.</p>\n",
    "   </li>\n",
    "   <li>\n",
    "      <p><code class=\"language-plaintext highlighter-rouge\">?</code> matches any single character in a filename, so <code class=\"language-plaintext highlighter-rouge\">?.txt</code> matches <code class=\"language-plaintext highlighter-rouge\">a.txt</code> but not <code class=\"language-plaintext highlighter-rouge\">any.txt</code>.</p>\n",
    "   </li>\n",
    "   <li>\n",
    "      <p>Use of the Control key may be described in many ways, including <code class=\"language-plaintext highlighter-rouge\">Ctrl-X</code>, <code class=\"language-plaintext highlighter-rouge\">Control-X</code>, and <code class=\"language-plaintext highlighter-rouge\">^X</code>.</p>\n",
    "   </li>\n",
    "   <li>\n",
    "      <p>The shell does not have a trash bin: once something is deleted, it’s really gone.</p>\n",
    "   </li>\n",
    "   <li>\n",
    "      <p>Most files’ names are <code class=\"language-plaintext highlighter-rouge\">something.extension</code>. The extension isn’t required, and doesn’t guarantee anything, but is normally used to indicate the type of data in the file.</p>\n",
    "   </li>\n",
    "   <li>\n",
    "      <p>Depending on the type of work you do, you may need a more powerful text editor than Nano.</p>\n",
    "   </li>\n",
    "</ul>"
   ]
  },
  {
   "cell_type": "markdown",
   "metadata": {},
   "source": [
    "### Pipes and Filters"
   ]
  },
  {
   "cell_type": "markdown",
   "metadata": {},
   "source": [
    "<ul>\n",
    "   <li>\n",
    "      <p><code class=\"language-plaintext highlighter-rouge\">wc</code> counts lines, words, and characters in its inputs.</p>\n",
    "   </li>\n",
    "   <li>\n",
    "      <p><code class=\"language-plaintext highlighter-rouge\">cat</code> displays the contents of its inputs.</p>\n",
    "   </li>\n",
    "   <li>\n",
    "      <p><code class=\"language-plaintext highlighter-rouge\">sort</code> sorts its inputs.</p>\n",
    "   </li>\n",
    "   <li>\n",
    "      <p><code class=\"language-plaintext highlighter-rouge\">head</code> displays the first 10 lines of its input.</p>\n",
    "   </li>\n",
    "   <li>\n",
    "      <p><code class=\"language-plaintext highlighter-rouge\">tail</code> displays the last 10 lines of its input.</p>\n",
    "   </li>\n",
    "   <li>\n",
    "      <p><code class=\"language-plaintext highlighter-rouge\">command &gt; [file]</code> redirects a command’s output to a file (overwriting any existing content).</p>\n",
    "   </li>\n",
    "   <li>\n",
    "      <p><code class=\"language-plaintext highlighter-rouge\">command &gt;&gt; [file]</code> appends a command’s output to a file.</p>\n",
    "   </li>\n",
    "   <li>\n",
    "      <p><code class=\"language-plaintext highlighter-rouge\">[first] | [second]</code> is a pipeline: the output of the first command is used as the input to the second.</p>\n",
    "   </li>\n",
    "   <li>\n",
    "      <p>The best way to use the shell is to use pipes to combine simple single-purpose programs (filters).</p>\n",
    "   </li>\n",
    "</ul>"
   ]
  },
  {
   "cell_type": "markdown",
   "metadata": {},
   "source": [
    "### Loops"
   ]
  },
  {
   "cell_type": "markdown",
   "metadata": {},
   "source": [
    "<ul>\n",
    "   <li>\n",
    "      <p>A <code class=\"language-plaintext highlighter-rouge\">for</code> loop repeats commands once for every thing in a list.</p>\n",
    "   </li>\n",
    "   <li>\n",
    "      <p>Every <code class=\"language-plaintext highlighter-rouge\">for</code> loop needs a variable to refer to the thing it is currently operating on.</p>\n",
    "   </li>\n",
    "   <li>\n",
    "      <p>Use <code class=\"language-plaintext highlighter-rouge\">&dollar;name</code> to expand a variable (i.e., get its value). <code class=\"language-plaintext highlighter-rouge\">&dollar;{name}</code> can also be used.</p>\n",
    "   </li>\n",
    "   <li>\n",
    "      <p>Do not use spaces, quotes, or wildcard characters such as ‘*’ or ‘?’ in filenames, as it complicates variable expansion.</p>\n",
    "   </li>\n",
    "   <li>\n",
    "      <p>Give files consistent names that are easy to match with wildcard patterns to make it easy to select them for looping.</p>\n",
    "   </li>\n",
    "   <li>\n",
    "      <p>Use the up-arrow key to scroll up through previous commands to edit and repeat them.</p>\n",
    "   </li>\n",
    "   <li>\n",
    "      <p>Use <kbd>Ctrl</kbd>+<kbd>R</kbd> to search through the previously entered commands.</p>\n",
    "   </li>\n",
    "   <li>\n",
    "      <p>Use <code class=\"language-plaintext highlighter-rouge\">history</code> to display recent commands, and <code class=\"language-plaintext highlighter-rouge\">![number]</code> to repeat a command by number.</p>\n",
    "   </li>\n",
    "</ul>"
   ]
  },
  {
   "cell_type": "markdown",
   "metadata": {},
   "source": [
    "### Shell Scripts"
   ]
  },
  {
   "cell_type": "markdown",
   "metadata": {},
   "source": [
    "<ul>\n",
    "   <li>\n",
    "      <p>Save commands in files (usually called shell scripts) for re-use.</p>\n",
    "   </li>\n",
    "   <li>\n",
    "      <p><code class=\"language-plaintext highlighter-rouge\">bash [filename]</code> runs the commands saved in a file.</p>\n",
    "   </li>\n",
    "   <li>\n",
    "      <p><code class=\"language-plaintext highlighter-rouge\">&dollar;@</code> refers to all of a shell script’s command-line arguments.</p>\n",
    "   </li>\n",
    "   <li>\n",
    "      <p><code class=\"language-plaintext highlighter-rouge\">&dollar;1</code>, <code class=\"language-plaintext highlighter-rouge\">&dollar;2</code>, etc., refer to the first command-line argument, the second command-line argument, etc.</p>\n",
    "   </li>\n",
    "   <li>\n",
    "      <p>Place variables in quotes if the values might have spaces in them.</p>\n",
    "   </li>\n",
    "   <li>\n",
    "      <p>Letting users decide what files to process is more flexible and more consistent with built-in Unix commands.</p>\n",
    "   </li>\n",
    "</ul>"
   ]
  },
  {
   "cell_type": "markdown",
   "metadata": {},
   "source": [
    "### Finding Things"
   ]
  },
  {
   "cell_type": "markdown",
   "metadata": {},
   "source": [
    "<ul>\n",
    "   <li>\n",
    "      <p><code class=\"language-plaintext highlighter-rouge\">find</code> finds files with specific properties that match patterns.</p>\n",
    "   </li>\n",
    "   <li>\n",
    "      <p><code class=\"language-plaintext highlighter-rouge\">grep</code> selects lines in files that match patterns.</p>\n",
    "   </li>\n",
    "   <li>\n",
    "      <p><code class=\"language-plaintext highlighter-rouge\">--help</code> is an option supported by many bash commands, and programs that can be run from within Bash, to display more information on how to use these commands or programs.</p>\n",
    "   </li>\n",
    "   <li>\n",
    "      <p><code class=\"language-plaintext highlighter-rouge\">man [command]</code> displays the manual page for a given command.</p>\n",
    "   </li>\n",
    "   <li>\n",
    "      <p><code class=\"language-plaintext highlighter-rouge\">$([command])</code> inserts a command’s output in place.</p>\n",
    "   </li>\n",
    "</ul>"
   ]
  },
  {
   "cell_type": "markdown",
   "metadata": {},
   "source": [
    "# The Conda"
   ]
  },
  {
   "cell_type": "markdown",
   "metadata": {},
   "source": [
    "[https://docs.conda.io/projects/conda/en/latest/user-guide/getting-started.html]"
   ]
  },
  {
   "cell_type": "markdown",
   "metadata": {},
   "source": [
    "<ol>\n",
    "    <li>Displays the version of conda installed::<code>conda --version<\\code></li>\n",
    "    <li>Update conda to the current version<code>conda update conda<\\code></li>\n",
    "    <li>Create a new environment and install a package in it<code>conda create --name snowflakes biopython<\\code></li>\n",
    "    <li>To use, or \"activate\" the new environment<code>conda activate snowflakes<\\code></li>\n",
    "    <li>Change current environment back to the default (base)<code>conda activate<\\code></li>\n",
    "    <li>To see a list of all conda environments:<code>conda info --envs<\\code></li>\n",
    "    <li>Create a new environment named \"snakes\" that contains Python 3.9<code>conda create --name snakes python=3.9<\\code></li>\n",
    "    <li>Check to see if a package you have not installed named \"beautifulsoup4\" is available from the Anaconda repository (must be connected to the Internet). Conda displays a list of all packages with that name on the Anaconda repository, so we know it is available<code>conda search beautifulsoup4<\\code></li>\n",
    "    <li>Install this package into the current environment<code>conda install beautifulsoup4<\\code></li>\n",
    "    <li>Check to see if the newly installed program is in this environment:<code>conda list<\\code></li>\n",
    "</ol>"
   ]
  },
  {
   "cell_type": "markdown",
   "metadata": {},
   "source": [
    "conda env remove -n ENV_NAME"
   ]
  },
  {
   "cell_type": "markdown",
   "metadata": {},
   "source": [
    "# Black, isort, and Flake8\n",
    "- black *.py\n",
    "- isort *.py --profile=black\n",
    "\n",
    "# settings.json\n",
    "\n",
    "```json\n",
    "{\n",
    "    \"workbench.colorTheme\": \"Default Light+\", \n",
    "    \"terminal.integrated.automationProfile.linux\": {},\n",
    "    \n",
    "    \"python.linting.flake8Enabled\": true,\n",
    "    \"python.linting.flake8Args\": [\n",
    "        \"--max-line-length=88\",\n",
    "        \"--extend-ignore=E203\"\n",
    "    ],\n",
    "    \"python.formatting.provider\": \"black\",\n",
    "    \"python.sortImports.args\": [\n",
    "        \"--profile=black\"\n",
    "    ],\n",
    "    \"editor.formatOnSave\": true,\n",
    "    \"[python]\": {\n",
    "        \"editor.wordBasedSuggestions\": false,\n",
    "        \"editor.detectIndentation\": true,\n",
    "        \"editor.tabSize\": 4,\n",
    "        \"files.trimTrailingWhitespace\": true,\n",
    "        \"editor.codeActionsOnSave\": {\n",
    "            \"source.organizeImports\": true\n",
    "        }\n",
    "    }\n",
    "}\n",
    "```"
   ]
  },
  {
   "cell_type": "markdown",
   "metadata": {},
   "source": [
    "\n",
    "# VSCODE user settings:\n",
    "```json\n",
    "{\n",
    "    \"workbench.colorTheme\": \"Default Light+\",\n",
    "    \"terminal.integrated.automationProfile.linux\": {},\n",
    "    \"python.linting.flake8Enabled\": true,\n",
    "    \"python.formatting.provider\": \"black\",\n",
    "    \"[python]\": {\n",
    "        \"editor.wordBasedSuggestions\": false,\n",
    "        \"editor.detectIndentation\": true,\n",
    "        \"editor.tabSize\": 4,\n",
    "        \"files.trimTrailingWhitespace\": true,\n",
    "    },\n",
    "}\n",
    "```\n",
    "\n",
    "# VSCODE workspace settings:\n",
    "```json\n",
    "{\n",
    "    \"terminal.integrated.automationProfile.linux\": {},\n",
    "    \"editor.formatOnSave\": true,\n",
    "    \"python.defaultInterpreterPath\": \"~/miniconda3/envs/mle-dev/bin/python\",\n",
    "    \"python.sortImports.args\": [\n",
    "        \"--profile=black\"\n",
    "    ],\n",
    "    \"python.linting.flake8Args\": [\n",
    "        \"--max-line-length=88\",\n",
    "        \"--extend-ignore=E203\"\n",
    "    ],\n",
    "    \"[python]\": {\n",
    "        \"editor.codeActionsOnSave\": {\n",
    "            \"source.organizeImports\": true\n",
    "        }\n",
    "    },\n",
    "}\n",
    "```"
   ]
  },
  {
   "cell_type": "code",
   "execution_count": null,
   "metadata": {},
   "outputs": [],
   "source": []
  }
 ],
 "metadata": {
  "kernelspec": {
   "display_name": "Python 3",
   "language": "python",
   "name": "python3"
  },
  "language_info": {
   "codemirror_mode": {
    "name": "ipython",
    "version": 3
   },
   "file_extension": ".py",
   "mimetype": "text/x-python",
   "name": "python",
   "nbconvert_exporter": "python",
   "pygments_lexer": "ipython3",
   "version": "3.8.11"
  }
 },
 "nbformat": 4,
 "nbformat_minor": 4
}
