{
 "cells": [
  {
   "cell_type": "markdown",
   "metadata": {},
   "source": [
    "# Resources"
   ]
  },
  {
   "cell_type": "markdown",
   "metadata": {},
   "source": [
    "[1] https://livesql.oracle.com/apex/f?p=590:1000"
   ]
  },
  {
   "cell_type": "code",
   "execution_count": null,
   "metadata": {},
   "outputs": [],
   "source": []
  },
  {
   "cell_type": "code",
   "execution_count": null,
   "metadata": {},
   "outputs": [],
   "source": []
  },
  {
   "cell_type": "markdown",
   "metadata": {},
   "source": [
    "# Window Function"
   ]
  },
  {
   "cell_type": "markdown",
   "metadata": {},
   "source": [
    "SELECT EMP_ID, DEPT_ID,EXPERTISE,SALARY,  \n",
    "  \n",
    "SUM(SALARY) OVER (PARTITION BY DEPT_ID) AS DEPT_SALARY,  \n",
    "  \n",
    "SUM(SALARY) OVER (PARTITION BY EXPERTISE) AS EXPERTISE_SALARY,  \n",
    "  \n",
    "ROW_NUMBER() OVER (PARTITION BY DEPT_ID ORDER BY SALARY DESC ) AS ROW_NUM ,  \n",
    "  \n",
    "RANK() OVER (PARTITION BY DEPT_ID ORDER BY SALARY DESC ) AS RANK_NUM,  \n",
    "  \n",
    "DENSE_RANK() OVER (PARTITION BY DEPT_ID ORDER BY SALARY DESC ) AS D_RANK_NUM  \n",
    "  \n",
    "FROM AB_EMPLOYEE  \n",
    "  \n",
    "ORDER BY DEPT_ID,SALARY DESC"
   ]
  },
  {
   "cell_type": "markdown",
   "metadata": {},
   "source": [
    "<div class=\"s-Session-result\"><span class=\"s-Session-msg\"><table summary=\"SQL Query Results\" class=\"u-Report\">\n",
    "<tbody><tr><th id=\"EMP_ID\">EMP_ID</th><th id=\"DEPT_ID\">DEPT_ID</th><th id=\"EXPERTISE\">EXPERTISE</th><th id=\"SALARY\">SALARY</th><th id=\"DEPT_SALARY\">DEPT_SALARY</th><th id=\"EXPERTISE_SALARY\">EXPERTISE_SALARY</th><th id=\"ROW_NUM\">ROW_NUM</th><th id=\"RANK_NUM\">RANK_NUM</th><th id=\"D_RANK_NUM\">D_RANK_NUM</th></tr><tr><td headers=\"EMP_ID\">5003</td><td headers=\"DEPT_ID\">1</td><td headers=\"EXPERTISE\">SCIENCE</td><td headers=\"SALARY\">50000</td><td headers=\"DEPT_SALARY\">150000</td><td headers=\"EXPERTISE_SALARY\">50000</td><td headers=\"ROW_NUM\">1</td><td headers=\"RANK_NUM\">1</td><td headers=\"D_RANK_NUM\">1</td></tr><tr><td headers=\"EMP_ID\">5003</td><td headers=\"DEPT_ID\">1</td><td headers=\"EXPERTISE\">MATH</td><td headers=\"SALARY\">50000</td><td headers=\"DEPT_SALARY\">150000</td><td headers=\"EXPERTISE_SALARY\">445556</td><td headers=\"ROW_NUM\">2</td><td headers=\"RANK_NUM\">1</td><td headers=\"D_RANK_NUM\">1</td></tr><tr><td headers=\"EMP_ID\">5003</td><td headers=\"DEPT_ID\">1</td><td headers=\"EXPERTISE\">ENGLISH</td><td headers=\"SALARY\">50000</td><td headers=\"DEPT_SALARY\">150000</td><td headers=\"EXPERTISE_SALARY\">445556</td><td headers=\"ROW_NUM\">3</td><td headers=\"RANK_NUM\">1</td><td headers=\"D_RANK_NUM\">1</td></tr><tr><td headers=\"EMP_ID\">106</td><td headers=\"DEPT_ID\">2</td><td headers=\"EXPERTISE\">ENGLISH</td><td headers=\"SALARY\">80000</td><td headers=\"DEPT_SALARY\">641112</td><td headers=\"EXPERTISE_SALARY\">445556</td><td headers=\"ROW_NUM\">1</td><td headers=\"RANK_NUM\">1</td><td headers=\"D_RANK_NUM\">1</td></tr><tr><td headers=\"EMP_ID\">106</td><td headers=\"DEPT_ID\">2</td><td headers=\"EXPERTISE\">MATH</td><td headers=\"SALARY\">80000</td><td headers=\"DEPT_SALARY\">641112</td><td headers=\"EXPERTISE_SALARY\">445556</td><td headers=\"ROW_NUM\">2</td><td headers=\"RANK_NUM\">1</td><td headers=\"D_RANK_NUM\">1</td></tr><tr><td headers=\"EMP_ID\">7003</td><td headers=\"DEPT_ID\">2</td><td headers=\"EXPERTISE\">ENGLISH</td><td headers=\"SALARY\">70000</td><td headers=\"DEPT_SALARY\">641112</td><td headers=\"EXPERTISE_SALARY\">445556</td><td headers=\"ROW_NUM\">3</td><td headers=\"RANK_NUM\">3</td><td headers=\"D_RANK_NUM\">2</td></tr><tr><td headers=\"EMP_ID\">104</td><td headers=\"DEPT_ID\">2</td><td headers=\"EXPERTISE\">ENGLISH</td><td headers=\"SALARY\">70000</td><td headers=\"DEPT_SALARY\">641112</td><td headers=\"EXPERTISE_SALARY\">445556</td><td headers=\"ROW_NUM\">4</td><td headers=\"RANK_NUM\">3</td><td headers=\"D_RANK_NUM\">2</td></tr><tr><td headers=\"EMP_ID\">7003</td><td headers=\"DEPT_ID\">2</td><td headers=\"EXPERTISE\">MATH</td><td headers=\"SALARY\">70000</td><td headers=\"DEPT_SALARY\">641112</td><td headers=\"EXPERTISE_SALARY\">445556</td><td headers=\"ROW_NUM\">5</td><td headers=\"RANK_NUM\">3</td><td headers=\"D_RANK_NUM\">2</td></tr><tr><td headers=\"EMP_ID\">104</td><td headers=\"DEPT_ID\">2</td><td headers=\"EXPERTISE\">MATH</td><td headers=\"SALARY\">70000</td><td headers=\"DEPT_SALARY\">641112</td><td headers=\"EXPERTISE_SALARY\">445556</td><td headers=\"ROW_NUM\">6</td><td headers=\"RANK_NUM\">3</td><td headers=\"D_RANK_NUM\">2</td></tr><tr><td headers=\"EMP_ID\">6003</td><td headers=\"DEPT_ID\">2</td><td headers=\"EXPERTISE\">MATH</td><td headers=\"SALARY\">50556</td><td headers=\"DEPT_SALARY\">641112</td><td headers=\"EXPERTISE_SALARY\">445556</td><td headers=\"ROW_NUM\">7</td><td headers=\"RANK_NUM\">7</td><td headers=\"D_RANK_NUM\">3</td></tr><tr><td headers=\"EMP_ID\">6003</td><td headers=\"DEPT_ID\">2</td><td headers=\"EXPERTISE\">ENGLISH</td><td headers=\"SALARY\">50556</td><td headers=\"DEPT_SALARY\">641112</td><td headers=\"EXPERTISE_SALARY\">445556</td><td headers=\"ROW_NUM\">8</td><td headers=\"RANK_NUM\">7</td><td headers=\"D_RANK_NUM\">3</td></tr><tr><td headers=\"EMP_ID\">107</td><td headers=\"DEPT_ID\">2</td><td headers=\"EXPERTISE\">MATH</td><td headers=\"SALARY\">50000</td><td headers=\"DEPT_SALARY\">641112</td><td headers=\"EXPERTISE_SALARY\">445556</td><td headers=\"ROW_NUM\">9</td><td headers=\"RANK_NUM\">9</td><td headers=\"D_RANK_NUM\">4</td></tr><tr><td headers=\"EMP_ID\">107</td><td headers=\"DEPT_ID\">2</td><td headers=\"EXPERTISE\">ENGLISH</td><td headers=\"SALARY\">50000</td><td headers=\"DEPT_SALARY\">641112</td><td headers=\"EXPERTISE_SALARY\">445556</td><td headers=\"ROW_NUM\">10</td><td headers=\"RANK_NUM\">9</td><td headers=\"D_RANK_NUM\">4</td></tr><tr><td headers=\"EMP_ID\">105</td><td headers=\"DEPT_ID\">3</td><td headers=\"EXPERTISE\">MATH</td><td headers=\"SALARY\">75000</td><td headers=\"DEPT_SALARY\">150000</td><td headers=\"EXPERTISE_SALARY\">445556</td><td headers=\"ROW_NUM\">1</td><td headers=\"RANK_NUM\">1</td><td headers=\"D_RANK_NUM\">1</td></tr><tr><td headers=\"EMP_ID\">105</td><td headers=\"DEPT_ID\">3</td><td headers=\"EXPERTISE\">ENGLISH</td><td headers=\"SALARY\">75000</td><td headers=\"DEPT_SALARY\">150000</td><td headers=\"EXPERTISE_SALARY\">445556</td><td headers=\"ROW_NUM\">2</td><td headers=\"RANK_NUM\">1</td><td headers=\"D_RANK_NUM\">1</td></tr>\n",
    "</tbody></table><br>15 rows selected.</span>\n",
    "                                </div>"
   ]
  },
  {
   "cell_type": "markdown",
   "metadata": {},
   "source": [
    "source [https://livesql.oracle.com/apex/livesql/file/content_FHXEW8QV9BNS5LUN2GTMYWWFL.html]"
   ]
  },
  {
   "cell_type": "code",
   "execution_count": null,
   "metadata": {},
   "outputs": [],
   "source": []
  }
 ],
 "metadata": {
  "kernelspec": {
   "display_name": "Python 3",
   "language": "python",
   "name": "python3"
  },
  "language_info": {
   "codemirror_mode": {
    "name": "ipython",
    "version": 3
   },
   "file_extension": ".py",
   "mimetype": "text/x-python",
   "name": "python",
   "nbconvert_exporter": "python",
   "pygments_lexer": "ipython3",
   "version": "3.8.11"
  }
 },
 "nbformat": 4,
 "nbformat_minor": 4
}
