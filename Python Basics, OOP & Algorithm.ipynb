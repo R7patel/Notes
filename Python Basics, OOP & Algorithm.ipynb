{
 "cells": [
  {
   "cell_type": "code",
   "execution_count": null,
   "metadata": {},
   "outputs": [],
   "source": [
    "https://www.pythoncheatsheet.org/"
   ]
  },
  {
   "cell_type": "code",
   "execution_count": null,
   "metadata": {},
   "outputs": [],
   "source": []
  },
  {
   "cell_type": "code",
   "execution_count": null,
   "metadata": {},
   "outputs": [],
   "source": []
  },
  {
   "cell_type": "markdown",
   "metadata": {},
   "source": [
    "# OOP in Python"
   ]
  },
  {
   "cell_type": "code",
   "execution_count": 17,
   "metadata": {},
   "outputs": [],
   "source": [
    "# Class \n",
    "class Cat:\n",
    "    pass\n",
    "\n",
    "# Class\n",
    "class Dog:\n",
    "    # Class attribute\n",
    "    species = \"Canis familiaris\"\n",
    "\n",
    "    # dunder methods (begin and end with double underscores.)\n",
    "    def __init__(self, name, age):\n",
    "        self.name = name\n",
    "        self.age = age\n",
    "    \n",
    "    # dunder methods (begin and end with double underscores.)\n",
    "    def __str__(self):\n",
    "        return f\"{self.name} is {self.age} years old\"\n",
    "\n",
    " \n",
    "    # Instance method   \n",
    "    def description(self):\n",
    "        return f\"{self.name} is {self.age} years old\"  # Replace .description() with __str__() is better\n",
    "\n",
    "    # Instance method\n",
    "    def speak(self, sound):\n",
    "        return f\"{self.name} says {sound}\\n\"\n",
    "\n",
    "    \n",
    "class JackRussellTerrier(Dog):\n",
    "    # Method overriding\n",
    "    def speak(self, sound=\"Arf\"):\n",
    "        return f\"{self.name} barks {sound}\\n\"\n",
    "\n",
    "class Dachshund(Dog):\n",
    "    # Access parent class from method of a child class by using super()\n",
    "    def speak(self, sound=\"Arf\"):\n",
    "        return super().speak(sound)\n",
    "\n",
    "class Bulldog(Dog):\n",
    "    pass"
   ]
  },
  {
   "cell_type": "code",
   "execution_count": 18,
   "metadata": {},
   "outputs": [
    {
     "name": "stdout",
     "output_type": "stream",
     "text": [
      "Buddy is 9 years old\n",
      "Buddy\n",
      "9\n",
      "Canis familiaris\n",
      "10\n",
      "Felis silvestris\n",
      "Buddy is 10 years old\n",
      "Buddy says Woof Woof\n",
      "\n",
      "4\n",
      "Canis familiaris\n",
      "Jack is 4 years old\n",
      "Jack barks Woof Woof\n",
      "\n",
      "Jack barks Arf\n",
      "\n",
      "9\n",
      "Canis familiaris\n",
      "Shun is 9 years old\n",
      "Shun says Woof Woof\n",
      "\n",
      "Shun says Arf\n",
      "\n",
      "5\n",
      "Canis familiaris\n",
      "Jim is 5 years old\n",
      "Jim says Woof Woof\n",
      "\n"
     ]
    }
   ],
   "source": [
    "buddy = Dog(\"Buddy\", 9)\n",
    "miles = Dog(\"Miles\", 4)\n",
    "\n",
    "\n",
    "\n",
    "print(buddy)\n",
    "print(buddy.name)\n",
    "print(buddy.age)\n",
    "print(buddy.species)\n",
    "buddy.age = 10\n",
    "buddy.species = \"Felis silvestris\"\n",
    "print(buddy.age)\n",
    "print(buddy.species)\n",
    "print(buddy.description())\n",
    "print(buddy.speak(\"Woof Woof\"))\n",
    "\n",
    "\n",
    "\n",
    "jack  = JackRussellTerrier(\"Jack\", 4)\n",
    "shun = Dachshund(\"Shun\", 9)\n",
    "jim = Bulldog(\"Jim\", 5)\n",
    "\n",
    "print(jack.age)\n",
    "print(jack.species)\n",
    "print(jack.description())\n",
    "print(jack.speak(\"Woof Woof\"))\n",
    "print(jack.speak())\n",
    "\n",
    "print(shun.age)\n",
    "print(shun.species)\n",
    "print(shun.description())\n",
    "print(shun.speak(\"Woof Woof\"))\n",
    "print(shun.speak())\n",
    "\n",
    "print(jim.age)\n",
    "print(jim.species)\n",
    "print(jim.description())\n",
    "print(jim.speak(\"Woof Woof\"))"
   ]
  },
  {
   "cell_type": "code",
   "execution_count": 20,
   "metadata": {},
   "outputs": [
    {
     "name": "stdout",
     "output_type": "stream",
     "text": [
      "<class '__main__.JackRussellTerrier'>\n",
      "True\n",
      "True\n",
      "False\n",
      "False\n"
     ]
    }
   ],
   "source": [
    "print(type(jack))\n",
    "print(isinstance(jack, Dog))\n",
    "print(isinstance(jack, JackRussellTerrier))\n",
    "print(isinstance(jack, Bulldog))\n",
    "print(isinstance(jack, Dachshund))"
   ]
  },
  {
   "cell_type": "markdown",
   "metadata": {},
   "source": [
    "# Resources"
   ]
  },
  {
   "cell_type": "markdown",
   "metadata": {},
   "source": [
    "<ol>\n",
    "<li><code>Python Cheat Sheet</code>:: <a href=\"https://www.pythoncheatsheet.org/\">https://www.pythoncheatsheet.org/</a></li>\n",
    "</ol>"
   ]
  },
  {
   "cell_type": "code",
   "execution_count": null,
   "metadata": {},
   "outputs": [],
   "source": []
  }
 ],
 "metadata": {
  "kernelspec": {
   "display_name": "Python 3",
   "language": "python",
   "name": "python3"
  },
  "language_info": {
   "codemirror_mode": {
    "name": "ipython",
    "version": 3
   },
   "file_extension": ".py",
   "mimetype": "text/x-python",
   "name": "python",
   "nbconvert_exporter": "python",
   "pygments_lexer": "ipython3",
   "version": "3.8.11"
  }
 },
 "nbformat": 4,
 "nbformat_minor": 4
}
