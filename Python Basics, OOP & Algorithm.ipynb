{
 "cells": [
  {
   "cell_type": "markdown",
   "metadata": {},
   "source": [
    "# Exception Handling"
   ]
  },
  {
   "cell_type": "code",
   "execution_count": 17,
   "metadata": {},
   "outputs": [
    {
     "name": "stdout",
     "output_type": "stream",
     "text": [
      "-- division finished --\n",
      "21.0 \n",
      "\n",
      "-- division finished --\n",
      "3.5 \n",
      "\n",
      "Error: Invalid argument: division by zero\n",
      "-- division finished --\n",
      "None \n",
      "\n",
      "-- division finished --\n",
      "42.0 \n",
      "\n",
      "UNKNOWN ERROR:: unsupported operand type(s) for /: 'int' and 'NoneType'\n",
      "-- division finished --\n",
      "None \n",
      "\n"
     ]
    }
   ],
   "source": [
    "def spam(divideBy=None):\n",
    "    try:\n",
    "        return 42 / divideBy\n",
    "    except ZeroDivisionError as e:\n",
    "        print('Error: Invalid argument: {}'.format(e))\n",
    "    except Exception as e:\n",
    "        print(\"UNKNOWN ERROR::\",e)\n",
    "    \n",
    "    finally:\n",
    "        print(\"-- division finished --\")\n",
    "\n",
    "\n",
    "print(spam(2),\"\\n\") \n",
    "print(spam(12),\"\\n\")\n",
    "print(spam(0),\"\\n\")\n",
    "print(spam(1),\"\\n\")\n",
    "print(spam(),\"\\n\")"
   ]
  },
  {
   "cell_type": "markdown",
   "metadata": {},
   "source": [
    "# OOP in Python"
   ]
  },
  {
   "cell_type": "code",
   "execution_count": 30,
   "metadata": {},
   "outputs": [],
   "source": [
    "# Class \n",
    "class Cat:\n",
    "    pass\n",
    "\n",
    "# Class\n",
    "class Dog:\n",
    "    # Class attribute/Variable\n",
    "    species = \"Canis familiaris\"\n",
    "\n",
    "    # dunder methods (begin and end with double underscores.)\n",
    "    # default constructor+\n",
    "    #     def __init__(self):\n",
    "    #         self.name= \"noname\"\n",
    "    #         self.age = 0\n",
    "        \n",
    "    # parameterized constructor\n",
    "    def __init__(self, name= \"noname\", age= 0):\n",
    "        # Instance attribute/Variable\n",
    "        self.name = name\n",
    "        self.age = age\n",
    "    \n",
    "    # dunder methods (begin and end with double underscores.)\n",
    "    def __str__(self):\n",
    "        return f\"{self.name} is {self.age} years old\"\n",
    "\n",
    " \n",
    "    # Instance method   \n",
    "    def description(self):\n",
    "        return f\"{self.name} is {self.age} years old\"  # Replace .description() with __str__() is better\n",
    "\n",
    "    # Instance method\n",
    "    def speak(self, sound):\n",
    "        return f\"{self.name} says {sound}\\n\"\n",
    "    \n",
    "    # Destructor\n",
    "    def __del__(self):\n",
    "        print('Destructor called for',self.name ,', Employee deleted.')\n",
    "\n",
    "    \n",
    "class JackRussellTerrier(Dog):\n",
    "    # Method overriding\n",
    "    def speak(self, sound=\"Arf\"):\n",
    "        return f\"{self.name} barks {sound}\\n\"\n",
    "\n",
    "class Dachshund(Dog):\n",
    "    # Access parent class from method of a child class by using super()\n",
    "    def speak(self, sound=\"Arf\"):\n",
    "        return super().speak(sound)\n",
    "\n",
    "class Bulldog(Dog):\n",
    "    pass"
   ]
  },
  {
   "cell_type": "code",
   "execution_count": 31,
   "metadata": {},
   "outputs": [
    {
     "name": "stdout",
     "output_type": "stream",
     "text": [
      "Destructor called for Buddy , Employee deleted.\n",
      "Destructor called for Miles , Employee deleted.\n",
      "Destructor called for noname , Employee deleted.\n",
      "noname is 0 years old\n",
      "noname\n",
      "0\n",
      "noname says No No\n",
      "\n",
      "Buddy is 9 years old\n",
      "Buddy\n",
      "9\n",
      "Canis familiaris\n",
      "10\n",
      "Felis silvestris\n",
      "Buddy is 10 years old\n",
      "Buddy says Woof Woof\n",
      "\n",
      "Destructor called for Jack , Employee deleted.\n",
      "Destructor called for Shun , Employee deleted.\n",
      "Destructor called for Jim , Employee deleted.\n",
      "4\n",
      "Canis familiaris\n",
      "Jack is 4 years old\n",
      "Jack barks Woof Woof\n",
      "\n",
      "Jack barks Arf\n",
      "\n",
      "9\n",
      "Canis familiaris\n",
      "Shun is 9 years old\n",
      "Shun says Woof Woof\n",
      "\n",
      "Shun says Arf\n",
      "\n",
      "5\n",
      "Canis familiaris\n",
      "Jim is 5 years old\n",
      "Jim says Woof Woof\n",
      "\n"
     ]
    }
   ],
   "source": [
    "buddy = Dog(\"Buddy\", 9)\n",
    "miles = Dog(\"Miles\", 4)\n",
    "nodogs = Dog()\n",
    "\n",
    "\n",
    "\n",
    "print(nodogs)\n",
    "print(nodogs.name)\n",
    "print(nodogs.age)\n",
    "print(nodogs.speak(\"No No\"))\n",
    "\n",
    "print(buddy)\n",
    "print(buddy.name)\n",
    "print(buddy.age)\n",
    "print(buddy.species)\n",
    "buddy.age = 10\n",
    "buddy.species = \"Felis silvestris\"\n",
    "print(buddy.age)\n",
    "print(buddy.species)\n",
    "print(buddy.description())\n",
    "print(buddy.speak(\"Woof Woof\"))\n",
    "\n",
    "\n",
    "\n",
    "jack  = JackRussellTerrier(\"Jack\", 4)\n",
    "shun = Dachshund(\"Shun\", 9)\n",
    "jim = Bulldog(\"Jim\", 5)\n",
    "\n",
    "print(jack.age)\n",
    "print(jack.species)\n",
    "print(jack.description())\n",
    "print(jack.speak(\"Woof Woof\"))\n",
    "print(jack.speak())\n",
    "\n",
    "print(shun.age)\n",
    "print(shun.species)\n",
    "print(shun.description())\n",
    "print(shun.speak(\"Woof Woof\"))\n",
    "print(shun.speak())\n",
    "\n",
    "print(jim.age)\n",
    "print(jim.species)\n",
    "print(jim.description())\n",
    "print(jim.speak(\"Woof Woof\"))"
   ]
  },
  {
   "cell_type": "code",
   "execution_count": 4,
   "metadata": {},
   "outputs": [
    {
     "name": "stdout",
     "output_type": "stream",
     "text": [
      "<class '__main__.JackRussellTerrier'>\n",
      "True\n",
      "True\n",
      "False\n",
      "False\n"
     ]
    }
   ],
   "source": [
    "print(type(jack))\n",
    "print(isinstance(jack, Dog))\n",
    "print(isinstance(jack, JackRussellTerrier))\n",
    "print(isinstance(jack, Bulldog))\n",
    "print(isinstance(jack, Dachshund))"
   ]
  },
  {
   "cell_type": "code",
   "execution_count": null,
   "metadata": {},
   "outputs": [],
   "source": []
  },
  {
   "cell_type": "markdown",
   "metadata": {},
   "source": [
    "# Alogorithm"
   ]
  },
  {
   "cell_type": "markdown",
   "metadata": {},
   "source": [
    "### Queue\n",
    "<p><a href=\"https://www.geeksforgeeks.org/queue-in-python/\" rel=\"noreferrer\">[SOURCE]</a></p>"
   ]
  },
  {
   "cell_type": "code",
   "execution_count": 5,
   "metadata": {},
   "outputs": [
    {
     "name": "stdout",
     "output_type": "stream",
     "text": [
      "Queue:: FIFO order\n",
      "Initial queue\n",
      "['a', 'b', 'c']\n",
      "\n",
      "Elements dequeued from queue\n",
      "a\n",
      "b\n",
      "\n",
      "Queue after removing elements\n",
      "['c']\n"
     ]
    }
   ],
   "source": [
    "# Python program to \n",
    "# demonstrate queue implementation\n",
    "# using list\n",
    "  \n",
    "# Initializing a queue\n",
    "queue = []\n",
    "print(\"Queue:: FIFO order\")\n",
    "  \n",
    "# Adding elements to the queue\n",
    "queue.append('a')\n",
    "queue.append('b')\n",
    "queue.append('c')\n",
    "  \n",
    "print(\"Initial queue\")\n",
    "print(queue)\n",
    "  \n",
    "# pop() function to pop element from queue in FIFO order\n",
    "print(\"\\nElements dequeued from queue\")\n",
    "print(queue.pop(0))\n",
    "print(queue.pop(0))\n",
    "# print(queue.pop(0))\n",
    "  \n",
    "print(\"\\nQueue after removing elements\")\n",
    "print(queue)\n",
    "  \n",
    "# Uncommenting print(queue.pop(0))\n",
    "# will raise and IndexError\n",
    "# as the queue is now empty"
   ]
  },
  {
   "cell_type": "markdown",
   "metadata": {},
   "source": [
    "### Stack\n",
    "<p><a href=\"https://www.geeksforgeeks.org/stack-in-python/\" rel=\"noreferrer\">[SOURCE]</a></p>"
   ]
  },
  {
   "cell_type": "code",
   "execution_count": 6,
   "metadata": {},
   "outputs": [
    {
     "name": "stdout",
     "output_type": "stream",
     "text": [
      "Stack:: LIFO order\n",
      "Initial stack\n",
      "['a', 'b', 'c']\n",
      "\n",
      "Elements popped from stack:\n",
      "c\n",
      "b\n",
      "\n",
      "Stack after elements are popped:\n",
      "['a']\n"
     ]
    }
   ],
   "source": [
    "# Python program to\n",
    "# demonstrate stack implementation\n",
    "# using list\n",
    " \n",
    "stack = []\n",
    "print(\"Stack:: LIFO order\")\n",
    "\n",
    "# append() function to push\n",
    "# element in the stack\n",
    "stack.append('a')\n",
    "stack.append('b')\n",
    "stack.append('c')\n",
    " \n",
    "print('Initial stack')\n",
    "print(stack)\n",
    " \n",
    "# pop() function to pop element from stack in LIFO order\n",
    "print('\\nElements popped from stack:')\n",
    "print(stack.pop())\n",
    "print(stack.pop())\n",
    "# print(stack.pop())\n",
    " \n",
    "print('\\nStack after elements are popped:')\n",
    "print(stack)\n",
    " \n",
    "# uncommenting print(stack.pop())\n",
    "# will cause an IndexError\n",
    "# as the stack is now empty"
   ]
  },
  {
   "cell_type": "code",
   "execution_count": null,
   "metadata": {},
   "outputs": [],
   "source": []
  },
  {
   "cell_type": "code",
   "execution_count": null,
   "metadata": {},
   "outputs": [],
   "source": []
  },
  {
   "cell_type": "markdown",
   "metadata": {},
   "source": [
    "# Resources"
   ]
  },
  {
   "cell_type": "markdown",
   "metadata": {},
   "source": [
    "<ol>\n",
    "<li><code>Python Cheat Sheet</code>:: <a href=\"https://www.pythoncheatsheet.org/\">https://www.pythoncheatsheet.org/</a></li>\n",
    "<li><code>Python Cheat Sheet pdf 7 pgs</code>:: <a href=\"https://piazza.com/class_profile/get_resource/jde6vr6f8rk2b6/je4qxiv06m923z\">https://piazza.com/</a></li>\n",
    "<li><code>Python OOP</code>:: <a href=\"https://realpython.com/python3-object-oriented-programming/\">https://realpython.com/python3-object-oriented-programming/</a></li>\n",
    "<li><code>Python Revision</code>:: <a href=\"https://www.geeksforgeeks.org/python-programming-language/\">https://www.geeksforgeeks.org/</a></li>\n",
    "    \n",
    "    \n",
    "</ol>"
   ]
  },
  {
   "cell_type": "code",
   "execution_count": null,
   "metadata": {},
   "outputs": [],
   "source": []
  }
 ],
 "metadata": {
  "kernelspec": {
   "display_name": "Python 3",
   "language": "python",
   "name": "python3"
  },
  "language_info": {
   "codemirror_mode": {
    "name": "ipython",
    "version": 3
   },
   "file_extension": ".py",
   "mimetype": "text/x-python",
   "name": "python",
   "nbconvert_exporter": "python",
   "pygments_lexer": "ipython3",
   "version": "3.8.11"
  }
 },
 "nbformat": 4,
 "nbformat_minor": 4
}
